{
  "nbformat": 4,
  "nbformat_minor": 0,
  "metadata": {
    "colab": {
      "provenance": [],
      "collapsed_sections": [
        "dg_tuyfvDt7G",
        "vSKJH7T6XEEE",
        "5pQ-qM6-XOuz",
        "O53OLs65YGec",
        "I58Zde2RY9tn",
        "pnOmbChEZEbU",
        "i4SRiis6k5Fm",
        "4erqsYGqcsxT",
        "xYo0R0msgPUy",
        "ifBgRqNsh7N0",
        "C34fXHbuiVvz",
        "Bw_Ji6dOrJry",
        "wbyl397mtlv1",
        "shq7lixUukKO",
        "OaO5vVyHvTlT",
        "bg9szD6qwIvN",
        "xupe6LZ4v8La",
        "foARL6ebt7cv"
      ],
      "authorship_tag": "ABX9TyMZ4G9oTTBjSVjt437YWIZP",
      "include_colab_link": true
    },
    "kernelspec": {
      "name": "python3",
      "display_name": "Python 3"
    },
    "language_info": {
      "name": "python"
    }
  },
  "cells": [
    {
      "cell_type": "markdown",
      "metadata": {
        "id": "view-in-github",
        "colab_type": "text"
      },
      "source": [
        "<a href=\"https://colab.research.google.com/github/glee255/fetch/blob/main/Fetch_HomeTest.ipynb\" target=\"_parent\"><img src=\"https://colab.research.google.com/assets/colab-badge.svg\" alt=\"Open In Colab\"/></a>"
      ]
    },
    {
      "cell_type": "markdown",
      "source": [
        "### **Brands Table**\n",
        " - Read json file.\n",
        " - Read id values within the dictionaries."
      ],
      "metadata": {
        "id": "dg_tuyfvDt7G"
      }
    },
    {
      "cell_type": "code",
      "execution_count": 1,
      "metadata": {
        "id": "bHJ-_wlVRGAb"
      },
      "outputs": [],
      "source": [
        "# Read json file\n",
        "import pandas as pd\n",
        "import json\n",
        "\n",
        "with open('/content/brands.json', 'r') as file:\n",
        "    json_text = file.read()\n",
        "\n",
        "json_objects = json_text.strip().split('\\n')\n",
        "data = [json.loads(obj) for obj in json_objects]\n",
        "brands = pd.DataFrame(data)"
      ]
    },
    {
      "cell_type": "code",
      "source": [
        "# Read  id values\n",
        "def extract(d):\n",
        "    try:\n",
        "        if \"$oid\" in d:\n",
        "            return d[\"$oid\"]\n",
        "        elif \"$id\" in d and \"$oid\" in d[\"$id\"]:\n",
        "            return d[\"$id\"][\"$oid\"]\n",
        "        else:\n",
        "            return None\n",
        "    except (KeyError, TypeError):\n",
        "        return None\n",
        "\n",
        "brands['brand_id'] = brands['_id'].apply(lambda x: extract(x))\n",
        "brands['cpg_id'] = brands['cpg'].apply(lambda x: extract(x))"
      ],
      "metadata": {
        "id": "hy8kuNrgYsmz"
      },
      "execution_count": 2,
      "outputs": []
    },
    {
      "cell_type": "code",
      "source": [
        "# 1167 brands in total\n",
        "brands.shape"
      ],
      "metadata": {
        "colab": {
          "base_uri": "https://localhost:8080/"
        },
        "id": "cWJyuetjBDct",
        "outputId": "84d30c56-4db4-4f04-ade5-ecbc4dfc2243"
      },
      "execution_count": 3,
      "outputs": [
        {
          "output_type": "execute_result",
          "data": {
            "text/plain": [
              "(1167, 10)"
            ]
          },
          "metadata": {},
          "execution_count": 3
        }
      ]
    },
    {
      "cell_type": "markdown",
      "source": [
        "### Missing values\n",
        " - There seems to be too many missing values in category, categoryCode, topBrand, brandCode.\n",
        " - Removing null values may remove the entire data set. Replacing null values does not make sense for this case."
      ],
      "metadata": {
        "id": "vSKJH7T6XEEE"
      }
    },
    {
      "cell_type": "code",
      "source": [
        "brands.isna().sum()"
      ],
      "metadata": {
        "colab": {
          "base_uri": "https://localhost:8080/"
        },
        "id": "KHs-vtQCA3M3",
        "outputId": "d433406e-de37-431a-92a0-afbe00001809"
      },
      "execution_count": 4,
      "outputs": [
        {
          "output_type": "execute_result",
          "data": {
            "text/plain": [
              "_id               0\n",
              "barcode           0\n",
              "category        155\n",
              "categoryCode    650\n",
              "cpg               0\n",
              "name              0\n",
              "topBrand        612\n",
              "brandCode       234\n",
              "brand_id          0\n",
              "cpg_id            0\n",
              "dtype: int64"
            ]
          },
          "metadata": {},
          "execution_count": 4
        }
      ]
    },
    {
      "cell_type": "markdown",
      "source": [
        "### Misleading column name\n",
        " - categoryCode seems to have text values and not categorical values.\n",
        " - Also it almost seems same as the category values."
      ],
      "metadata": {
        "id": "5pQ-qM6-XOuz"
      }
    },
    {
      "cell_type": "code",
      "source": [
        "brands['categoryCode'].value_counts()"
      ],
      "metadata": {
        "colab": {
          "base_uri": "https://localhost:8080/"
        },
        "id": "cVwmxxeyBIVZ",
        "outputId": "172ed238-256e-4c91-dbc4-76a2549ac03d"
      },
      "execution_count": 5,
      "outputs": [
        {
          "output_type": "execute_result",
          "data": {
            "text/plain": [
              "BAKING                           359\n",
              "CANDY_AND_SWEETS                  71\n",
              "BEER_WINE_SPIRITS                 31\n",
              "HEALTHY_AND_WELLNESS              14\n",
              "GROCERY                           11\n",
              "BABY                               7\n",
              "CLEANING_AND_HOME_IMPROVEMENT      6\n",
              "BREAD_AND_BAKERY                   5\n",
              "DAIRY_AND_REFRIGERATED             5\n",
              "PERSONAL_CARE                      4\n",
              "BEVERAGES                          1\n",
              "OUTDOOR                            1\n",
              "MAGAZINES                          1\n",
              "FROZEN                             1\n",
              "Name: categoryCode, dtype: int64"
            ]
          },
          "metadata": {},
          "execution_count": 5
        }
      ]
    },
    {
      "cell_type": "code",
      "source": [
        "brands['category'].value_counts()"
      ],
      "metadata": {
        "colab": {
          "base_uri": "https://localhost:8080/"
        },
        "id": "dKChcM1EBUCd",
        "outputId": "bc5c5fd8-bef8-4dfd-e991-d542e86535d0"
      },
      "execution_count": 6,
      "outputs": [
        {
          "output_type": "execute_result",
          "data": {
            "text/plain": [
              "Baking                         369\n",
              "Beer Wine Spirits               90\n",
              "Snacks                          75\n",
              "Candy & Sweets                  71\n",
              "Beverages                       63\n",
              "Magazines                       44\n",
              "Health & Wellness               44\n",
              "Breakfast & Cereal              40\n",
              "Grocery                         39\n",
              "Dairy                           33\n",
              "Condiments & Sauces             27\n",
              "Frozen                          24\n",
              "Personal Care                   20\n",
              "Baby                            18\n",
              "Canned Goods & Soups            12\n",
              "Beauty                           9\n",
              "Cleaning & Home Improvement      6\n",
              "Deli                             6\n",
              "Beauty & Personal Care           6\n",
              "Household                        5\n",
              "Bread & Bakery                   5\n",
              "Dairy & Refrigerated             5\n",
              "Outdoor                          1\n",
              "Name: category, dtype: int64"
            ]
          },
          "metadata": {},
          "execution_count": 6
        }
      ]
    },
    {
      "cell_type": "markdown",
      "source": [
        "### Inconsistent values\n",
        " - brandCode contains inconsistent values such as numeric, text and numeric and text combined."
      ],
      "metadata": {
        "id": "O53OLs65YGec"
      }
    },
    {
      "cell_type": "code",
      "source": [
        "brands['brandCode'].value_counts()"
      ],
      "metadata": {
        "colab": {
          "base_uri": "https://localhost:8080/"
        },
        "id": "ty4DrmsMEXtc",
        "outputId": "0e4d829c-145f-4d87-9061-123c67629b8b"
      },
      "execution_count": 7,
      "outputs": [
        {
          "output_type": "execute_result",
          "data": {
            "text/plain": [
              "                                 35\n",
              "GOODNITES                         2\n",
              "HUGGIES                           2\n",
              "ROYAL DANSK                       1\n",
              "SOL                               1\n",
              "                                 ..\n",
              "TEST BRANDCODE @1599159969028     1\n",
              "TEST BRANDCODE @1597350074404     1\n",
              "SEDAL                             1\n",
              "RED ROCK DELI                     1\n",
              "TEST BRANDCODE @1613158231644     1\n",
              "Name: brandCode, Length: 897, dtype: int64"
            ]
          },
          "metadata": {},
          "execution_count": 7
        }
      ]
    },
    {
      "cell_type": "markdown",
      "source": [
        "### Drop irrelevant columns\n",
        " - Remove '_id', 'cpg', 'categoryCode columns.\n",
        " - 'cpg' value needs to be checked."
      ],
      "metadata": {
        "id": "I58Zde2RY9tn"
      }
    },
    {
      "cell_type": "code",
      "source": [
        "# Remove '_id','cpg','categoryCode. 'cpg' value needs to be checked.\n",
        "colsToDrop = ['_id','categoryCode','cpg']\n",
        "brands.drop(colsToDrop, axis=1, inplace=True)"
      ],
      "metadata": {
        "id": "4tExAAx4B9xM"
      },
      "execution_count": 8,
      "outputs": []
    },
    {
      "cell_type": "markdown",
      "source": [
        "### Check duplicates\n",
        "- No duplicates"
      ],
      "metadata": {
        "id": "pnOmbChEZEbU"
      }
    },
    {
      "cell_type": "code",
      "source": [
        "# No duplicates\n",
        "brands.duplicated().any()"
      ],
      "metadata": {
        "colab": {
          "base_uri": "https://localhost:8080/"
        },
        "id": "rcYphQNXBief",
        "outputId": "be997b4a-b4f2-4775-afd0-fa4ff1d2b9d3"
      },
      "execution_count": 9,
      "outputs": [
        {
          "output_type": "execute_result",
          "data": {
            "text/plain": [
              "False"
            ]
          },
          "metadata": {},
          "execution_count": 9
        }
      ]
    },
    {
      "cell_type": "code",
      "source": [
        "# Check the first five rows\n",
        "brands.head()"
      ],
      "metadata": {
        "id": "c6P2f_QqD69T",
        "colab": {
          "base_uri": "https://localhost:8080/",
          "height": 275
        },
        "outputId": "bbb65b17-156a-4fa2-a698-bbac958c7f0a"
      },
      "execution_count": 10,
      "outputs": [
        {
          "output_type": "execute_result",
          "data": {
            "text/plain": [
              "        barcode        category                       name topBrand  \\\n",
              "0  511111019862          Baking  test brand @1612366101024    False   \n",
              "1  511111519928       Beverages                  Starbucks    False   \n",
              "2  511111819905          Baking  test brand @1612366146176    False   \n",
              "3  511111519874          Baking  test brand @1612366146051    False   \n",
              "4  511111319917  Candy & Sweets  test brand @1612366146827    False   \n",
              "\n",
              "                       brandCode                  brand_id  \\\n",
              "0                            NaN  601ac115be37ce2ead437551   \n",
              "1                      STARBUCKS  601c5460be37ce2ead43755f   \n",
              "2  TEST BRANDCODE @1612366146176  601ac142be37ce2ead43755d   \n",
              "3  TEST BRANDCODE @1612366146051  601ac142be37ce2ead43755a   \n",
              "4  TEST BRANDCODE @1612366146827  601ac142be37ce2ead43755e   \n",
              "\n",
              "                     cpg_id  \n",
              "0  601ac114be37ce2ead437550  \n",
              "1  5332f5fbe4b03c9a25efd0ba  \n",
              "2  601ac142be37ce2ead437559  \n",
              "3  601ac142be37ce2ead437559  \n",
              "4  5332fa12e4b03c9a25efd1e7  "
            ],
            "text/html": [
              "\n",
              "  <div id=\"df-40e50c11-23d0-430c-bdda-e486a9adba1a\" class=\"colab-df-container\">\n",
              "    <div>\n",
              "<style scoped>\n",
              "    .dataframe tbody tr th:only-of-type {\n",
              "        vertical-align: middle;\n",
              "    }\n",
              "\n",
              "    .dataframe tbody tr th {\n",
              "        vertical-align: top;\n",
              "    }\n",
              "\n",
              "    .dataframe thead th {\n",
              "        text-align: right;\n",
              "    }\n",
              "</style>\n",
              "<table border=\"1\" class=\"dataframe\">\n",
              "  <thead>\n",
              "    <tr style=\"text-align: right;\">\n",
              "      <th></th>\n",
              "      <th>barcode</th>\n",
              "      <th>category</th>\n",
              "      <th>name</th>\n",
              "      <th>topBrand</th>\n",
              "      <th>brandCode</th>\n",
              "      <th>brand_id</th>\n",
              "      <th>cpg_id</th>\n",
              "    </tr>\n",
              "  </thead>\n",
              "  <tbody>\n",
              "    <tr>\n",
              "      <th>0</th>\n",
              "      <td>511111019862</td>\n",
              "      <td>Baking</td>\n",
              "      <td>test brand @1612366101024</td>\n",
              "      <td>False</td>\n",
              "      <td>NaN</td>\n",
              "      <td>601ac115be37ce2ead437551</td>\n",
              "      <td>601ac114be37ce2ead437550</td>\n",
              "    </tr>\n",
              "    <tr>\n",
              "      <th>1</th>\n",
              "      <td>511111519928</td>\n",
              "      <td>Beverages</td>\n",
              "      <td>Starbucks</td>\n",
              "      <td>False</td>\n",
              "      <td>STARBUCKS</td>\n",
              "      <td>601c5460be37ce2ead43755f</td>\n",
              "      <td>5332f5fbe4b03c9a25efd0ba</td>\n",
              "    </tr>\n",
              "    <tr>\n",
              "      <th>2</th>\n",
              "      <td>511111819905</td>\n",
              "      <td>Baking</td>\n",
              "      <td>test brand @1612366146176</td>\n",
              "      <td>False</td>\n",
              "      <td>TEST BRANDCODE @1612366146176</td>\n",
              "      <td>601ac142be37ce2ead43755d</td>\n",
              "      <td>601ac142be37ce2ead437559</td>\n",
              "    </tr>\n",
              "    <tr>\n",
              "      <th>3</th>\n",
              "      <td>511111519874</td>\n",
              "      <td>Baking</td>\n",
              "      <td>test brand @1612366146051</td>\n",
              "      <td>False</td>\n",
              "      <td>TEST BRANDCODE @1612366146051</td>\n",
              "      <td>601ac142be37ce2ead43755a</td>\n",
              "      <td>601ac142be37ce2ead437559</td>\n",
              "    </tr>\n",
              "    <tr>\n",
              "      <th>4</th>\n",
              "      <td>511111319917</td>\n",
              "      <td>Candy &amp; Sweets</td>\n",
              "      <td>test brand @1612366146827</td>\n",
              "      <td>False</td>\n",
              "      <td>TEST BRANDCODE @1612366146827</td>\n",
              "      <td>601ac142be37ce2ead43755e</td>\n",
              "      <td>5332fa12e4b03c9a25efd1e7</td>\n",
              "    </tr>\n",
              "  </tbody>\n",
              "</table>\n",
              "</div>\n",
              "    <div class=\"colab-df-buttons\">\n",
              "\n",
              "  <div class=\"colab-df-container\">\n",
              "    <button class=\"colab-df-convert\" onclick=\"convertToInteractive('df-40e50c11-23d0-430c-bdda-e486a9adba1a')\"\n",
              "            title=\"Convert this dataframe to an interactive table.\"\n",
              "            style=\"display:none;\">\n",
              "\n",
              "  <svg xmlns=\"http://www.w3.org/2000/svg\" height=\"24px\" viewBox=\"0 -960 960 960\">\n",
              "    <path d=\"M120-120v-720h720v720H120Zm60-500h600v-160H180v160Zm220 220h160v-160H400v160Zm0 220h160v-160H400v160ZM180-400h160v-160H180v160Zm440 0h160v-160H620v160ZM180-180h160v-160H180v160Zm440 0h160v-160H620v160Z\"/>\n",
              "  </svg>\n",
              "    </button>\n",
              "\n",
              "  <style>\n",
              "    .colab-df-container {\n",
              "      display:flex;\n",
              "      gap: 12px;\n",
              "    }\n",
              "\n",
              "    .colab-df-convert {\n",
              "      background-color: #E8F0FE;\n",
              "      border: none;\n",
              "      border-radius: 50%;\n",
              "      cursor: pointer;\n",
              "      display: none;\n",
              "      fill: #1967D2;\n",
              "      height: 32px;\n",
              "      padding: 0 0 0 0;\n",
              "      width: 32px;\n",
              "    }\n",
              "\n",
              "    .colab-df-convert:hover {\n",
              "      background-color: #E2EBFA;\n",
              "      box-shadow: 0px 1px 2px rgba(60, 64, 67, 0.3), 0px 1px 3px 1px rgba(60, 64, 67, 0.15);\n",
              "      fill: #174EA6;\n",
              "    }\n",
              "\n",
              "    .colab-df-buttons div {\n",
              "      margin-bottom: 4px;\n",
              "    }\n",
              "\n",
              "    [theme=dark] .colab-df-convert {\n",
              "      background-color: #3B4455;\n",
              "      fill: #D2E3FC;\n",
              "    }\n",
              "\n",
              "    [theme=dark] .colab-df-convert:hover {\n",
              "      background-color: #434B5C;\n",
              "      box-shadow: 0px 1px 3px 1px rgba(0, 0, 0, 0.15);\n",
              "      filter: drop-shadow(0px 1px 2px rgba(0, 0, 0, 0.3));\n",
              "      fill: #FFFFFF;\n",
              "    }\n",
              "  </style>\n",
              "\n",
              "    <script>\n",
              "      const buttonEl =\n",
              "        document.querySelector('#df-40e50c11-23d0-430c-bdda-e486a9adba1a button.colab-df-convert');\n",
              "      buttonEl.style.display =\n",
              "        google.colab.kernel.accessAllowed ? 'block' : 'none';\n",
              "\n",
              "      async function convertToInteractive(key) {\n",
              "        const element = document.querySelector('#df-40e50c11-23d0-430c-bdda-e486a9adba1a');\n",
              "        const dataTable =\n",
              "          await google.colab.kernel.invokeFunction('convertToInteractive',\n",
              "                                                    [key], {});\n",
              "        if (!dataTable) return;\n",
              "\n",
              "        const docLinkHtml = 'Like what you see? Visit the ' +\n",
              "          '<a target=\"_blank\" href=https://colab.research.google.com/notebooks/data_table.ipynb>data table notebook</a>'\n",
              "          + ' to learn more about interactive tables.';\n",
              "        element.innerHTML = '';\n",
              "        dataTable['output_type'] = 'display_data';\n",
              "        await google.colab.output.renderOutput(dataTable, element);\n",
              "        const docLink = document.createElement('div');\n",
              "        docLink.innerHTML = docLinkHtml;\n",
              "        element.appendChild(docLink);\n",
              "      }\n",
              "    </script>\n",
              "  </div>\n",
              "\n",
              "\n",
              "<div id=\"df-d47999f9-5fcd-456a-98fe-df75fee79801\">\n",
              "  <button class=\"colab-df-quickchart\" onclick=\"quickchart('df-d47999f9-5fcd-456a-98fe-df75fee79801')\"\n",
              "            title=\"Suggest charts\"\n",
              "            style=\"display:none;\">\n",
              "\n",
              "<svg xmlns=\"http://www.w3.org/2000/svg\" height=\"24px\"viewBox=\"0 0 24 24\"\n",
              "     width=\"24px\">\n",
              "    <g>\n",
              "        <path d=\"M19 3H5c-1.1 0-2 .9-2 2v14c0 1.1.9 2 2 2h14c1.1 0 2-.9 2-2V5c0-1.1-.9-2-2-2zM9 17H7v-7h2v7zm4 0h-2V7h2v10zm4 0h-2v-4h2v4z\"/>\n",
              "    </g>\n",
              "</svg>\n",
              "  </button>\n",
              "\n",
              "<style>\n",
              "  .colab-df-quickchart {\n",
              "      --bg-color: #E8F0FE;\n",
              "      --fill-color: #1967D2;\n",
              "      --hover-bg-color: #E2EBFA;\n",
              "      --hover-fill-color: #174EA6;\n",
              "      --disabled-fill-color: #AAA;\n",
              "      --disabled-bg-color: #DDD;\n",
              "  }\n",
              "\n",
              "  [theme=dark] .colab-df-quickchart {\n",
              "      --bg-color: #3B4455;\n",
              "      --fill-color: #D2E3FC;\n",
              "      --hover-bg-color: #434B5C;\n",
              "      --hover-fill-color: #FFFFFF;\n",
              "      --disabled-bg-color: #3B4455;\n",
              "      --disabled-fill-color: #666;\n",
              "  }\n",
              "\n",
              "  .colab-df-quickchart {\n",
              "    background-color: var(--bg-color);\n",
              "    border: none;\n",
              "    border-radius: 50%;\n",
              "    cursor: pointer;\n",
              "    display: none;\n",
              "    fill: var(--fill-color);\n",
              "    height: 32px;\n",
              "    padding: 0;\n",
              "    width: 32px;\n",
              "  }\n",
              "\n",
              "  .colab-df-quickchart:hover {\n",
              "    background-color: var(--hover-bg-color);\n",
              "    box-shadow: 0 1px 2px rgba(60, 64, 67, 0.3), 0 1px 3px 1px rgba(60, 64, 67, 0.15);\n",
              "    fill: var(--button-hover-fill-color);\n",
              "  }\n",
              "\n",
              "  .colab-df-quickchart-complete:disabled,\n",
              "  .colab-df-quickchart-complete:disabled:hover {\n",
              "    background-color: var(--disabled-bg-color);\n",
              "    fill: var(--disabled-fill-color);\n",
              "    box-shadow: none;\n",
              "  }\n",
              "\n",
              "  .colab-df-spinner {\n",
              "    border: 2px solid var(--fill-color);\n",
              "    border-color: transparent;\n",
              "    border-bottom-color: var(--fill-color);\n",
              "    animation:\n",
              "      spin 1s steps(1) infinite;\n",
              "  }\n",
              "\n",
              "  @keyframes spin {\n",
              "    0% {\n",
              "      border-color: transparent;\n",
              "      border-bottom-color: var(--fill-color);\n",
              "      border-left-color: var(--fill-color);\n",
              "    }\n",
              "    20% {\n",
              "      border-color: transparent;\n",
              "      border-left-color: var(--fill-color);\n",
              "      border-top-color: var(--fill-color);\n",
              "    }\n",
              "    30% {\n",
              "      border-color: transparent;\n",
              "      border-left-color: var(--fill-color);\n",
              "      border-top-color: var(--fill-color);\n",
              "      border-right-color: var(--fill-color);\n",
              "    }\n",
              "    40% {\n",
              "      border-color: transparent;\n",
              "      border-right-color: var(--fill-color);\n",
              "      border-top-color: var(--fill-color);\n",
              "    }\n",
              "    60% {\n",
              "      border-color: transparent;\n",
              "      border-right-color: var(--fill-color);\n",
              "    }\n",
              "    80% {\n",
              "      border-color: transparent;\n",
              "      border-right-color: var(--fill-color);\n",
              "      border-bottom-color: var(--fill-color);\n",
              "    }\n",
              "    90% {\n",
              "      border-color: transparent;\n",
              "      border-bottom-color: var(--fill-color);\n",
              "    }\n",
              "  }\n",
              "</style>\n",
              "\n",
              "  <script>\n",
              "    async function quickchart(key) {\n",
              "      const quickchartButtonEl =\n",
              "        document.querySelector('#' + key + ' button');\n",
              "      quickchartButtonEl.disabled = true;  // To prevent multiple clicks.\n",
              "      quickchartButtonEl.classList.add('colab-df-spinner');\n",
              "      try {\n",
              "        const charts = await google.colab.kernel.invokeFunction(\n",
              "            'suggestCharts', [key], {});\n",
              "      } catch (error) {\n",
              "        console.error('Error during call to suggestCharts:', error);\n",
              "      }\n",
              "      quickchartButtonEl.classList.remove('colab-df-spinner');\n",
              "      quickchartButtonEl.classList.add('colab-df-quickchart-complete');\n",
              "    }\n",
              "    (() => {\n",
              "      let quickchartButtonEl =\n",
              "        document.querySelector('#df-d47999f9-5fcd-456a-98fe-df75fee79801 button');\n",
              "      quickchartButtonEl.style.display =\n",
              "        google.colab.kernel.accessAllowed ? 'block' : 'none';\n",
              "    })();\n",
              "  </script>\n",
              "</div>\n",
              "\n",
              "    </div>\n",
              "  </div>\n"
            ],
            "application/vnd.google.colaboratory.intrinsic+json": {
              "type": "dataframe",
              "variable_name": "brands",
              "summary": "{\n  \"name\": \"brands\",\n  \"rows\": 1167,\n  \"fields\": [\n    {\n      \"column\": \"barcode\",\n      \"properties\": {\n        \"dtype\": \"string\",\n        \"num_unique_values\": 1160,\n        \"samples\": [\n          \"511111203049\",\n          \"511111716648\",\n          \"511111801245\"\n        ],\n        \"semantic_type\": \"\",\n        \"description\": \"\"\n      }\n    },\n    {\n      \"column\": \"category\",\n      \"properties\": {\n        \"dtype\": \"category\",\n        \"num_unique_values\": 23,\n        \"samples\": [\n          \"Personal Care\",\n          \"Beauty\",\n          \"Baking\"\n        ],\n        \"semantic_type\": \"\",\n        \"description\": \"\"\n      }\n    },\n    {\n      \"column\": \"name\",\n      \"properties\": {\n        \"dtype\": \"string\",\n        \"num_unique_values\": 1156,\n        \"samples\": [\n          \"Bayer\\u00ae ASPRIN TAB/ CAPS/ CHEWS\",\n          \"Colorado Native\",\n          \"Chester's\"\n        ],\n        \"semantic_type\": \"\",\n        \"description\": \"\"\n      }\n    },\n    {\n      \"column\": \"topBrand\",\n      \"properties\": {\n        \"dtype\": \"category\",\n        \"num_unique_values\": 2,\n        \"samples\": [\n          true,\n          false\n        ],\n        \"semantic_type\": \"\",\n        \"description\": \"\"\n      }\n    },\n    {\n      \"column\": \"brandCode\",\n      \"properties\": {\n        \"dtype\": \"string\",\n        \"num_unique_values\": 897,\n        \"samples\": [\n          \"AMPTEST\",\n          \"NUT HARVEST\"\n        ],\n        \"semantic_type\": \"\",\n        \"description\": \"\"\n      }\n    },\n    {\n      \"column\": \"brand_id\",\n      \"properties\": {\n        \"dtype\": \"string\",\n        \"num_unique_values\": 1167,\n        \"samples\": [\n          \"53501d29b9237fd7718f9e16\",\n          \"5332fa08e4b03c9a25efd1d9\"\n        ],\n        \"semantic_type\": \"\",\n        \"description\": \"\"\n      }\n    },\n    {\n      \"column\": \"cpg_id\",\n      \"properties\": {\n        \"dtype\": \"category\",\n        \"num_unique_values\": 196,\n        \"samples\": [\n          \"5f4a64e7be37ce17d23b3178\",\n          \"5ff74500be37ce1e961f3276\"\n        ],\n        \"semantic_type\": \"\",\n        \"description\": \"\"\n      }\n    }\n  ]\n}"
            }
          },
          "metadata": {},
          "execution_count": 10
        }
      ]
    },
    {
      "cell_type": "markdown",
      "source": [
        "### Sqlite3 table conversion"
      ],
      "metadata": {
        "id": "i4SRiis6k5Fm"
      }
    },
    {
      "cell_type": "code",
      "source": [
        "file_name = 'brands.xlsx'\n",
        "brands.to_excel(file_name, index=False)"
      ],
      "metadata": {
        "id": "VopC7AEXEoCa"
      },
      "execution_count": 11,
      "outputs": []
    },
    {
      "cell_type": "code",
      "source": [
        "for column in brands.select_dtypes(include=['float64']).columns:\n",
        "    brands[column] = brands[column].fillna(0).astype(int)\n",
        "\n",
        "for column in brands.select_dtypes(include=['object']).columns:\n",
        "    brands[column] = brands[column].astype(str)"
      ],
      "metadata": {
        "id": "Xz7UWYwSvaO1"
      },
      "execution_count": 12,
      "outputs": []
    },
    {
      "cell_type": "code",
      "source": [
        "import sqlite3\n",
        "\n",
        "conn = sqlite3.connect('fetch.db')\n",
        "cur = conn.cursor()\n",
        "\n",
        "brands.to_sql('brands', conn, if_exists='replace', index=False)"
      ],
      "metadata": {
        "colab": {
          "base_uri": "https://localhost:8080/"
        },
        "id": "V1847yZhy11O",
        "outputId": "87efe7eb-0d20-4dcd-daf0-850b25263148"
      },
      "execution_count": 13,
      "outputs": [
        {
          "output_type": "execute_result",
          "data": {
            "text/plain": [
              "1167"
            ]
          },
          "metadata": {},
          "execution_count": 13
        }
      ]
    },
    {
      "cell_type": "markdown",
      "source": [
        "### **Receipts Table**\n",
        " - Read json file.\n",
        " - Retrieve the key values from rewardsReceiptItemList column. Twelve key values contained.\n",
        " - Retrieve id values within the dictionary.\n",
        " - Retrieve and convert dates from date columns"
      ],
      "metadata": {
        "id": "4erqsYGqcsxT"
      }
    },
    {
      "cell_type": "code",
      "source": [
        "# Read json file\n",
        "with open('/content/receipts.json', 'r') as file:\n",
        "    json_text = file.read()\n",
        "\n",
        "json_objects = json_text.strip().split('\\n')\n",
        "data1 = [json.loads(obj) for obj in json_objects]\n",
        "receipts = pd.DataFrame(data1)"
      ],
      "metadata": {
        "id": "zXEJCrrgTWhK"
      },
      "execution_count": 14,
      "outputs": []
    },
    {
      "cell_type": "code",
      "source": [
        "# Extract the key values from rewardsReceiptItemList column. Too many key values contained.\n",
        "def extract1(list_of_values, key):\n",
        "    if not isinstance(list_of_values, list):\n",
        "        return ''\n",
        "    values = [str(d.get(key)) for d in list_of_values if d.get(key) is not None]\n",
        "    return ','.join(values)\n",
        "\n",
        "receipts['barcodes'] = receipts['rewardsReceiptItemList'].apply(lambda x: extract1(x, 'barcode'))\n",
        "receipts['description'] = receipts['rewardsReceiptItemList'].apply(lambda x: extract1(x, 'description'))\n",
        "receipts['finalPrice'] = receipts['rewardsReceiptItemList'].apply(lambda x: extract1(x, 'finalPrice'))\n",
        "receipts['itemPrice'] = receipts['rewardsReceiptItemList'].apply(lambda x: extract1(x, 'itemPrice'))\n",
        "receipts['needsFetchReview'] = receipts['rewardsReceiptItemList'].apply(lambda x: extract1(x, 'needsFetchReview'))\n",
        "receipts['partnerItemId'] = receipts['rewardsReceiptItemList'].apply(lambda x: extract1(x, 'partnerItemId'))\n",
        "receipts['preventTargetGapPoints'] = receipts['rewardsReceiptItemList'].apply(lambda x: extract1(x, 'preventTargetGapPoints'))\n",
        "receipts['quantityPurchased'] = receipts['rewardsReceiptItemList'].apply(lambda x: extract1(x, 'quantityPurchased'))\n",
        "receipts['userFlaggedBarcode'] = receipts['rewardsReceiptItemList'].apply(lambda x: extract1(x, 'userFlaggedBarcode'))\n",
        "receipts['userFlaggedNewItem'] = receipts['rewardsReceiptItemList'].apply(lambda x: extract1(x, 'userFlaggedNewItem'))\n",
        "receipts['userFlaggedPrice'] = receipts['rewardsReceiptItemList'].apply(lambda x: extract1(x, 'userFlaggedPrice'))\n",
        "receipts['userFlaggedQuantity'] = receipts['rewardsReceiptItemList'].apply(lambda x: extract1(x, 'userFlaggedQuantity'))\n",
        "receipts['receipt_id'] = receipts['_id'].apply(lambda x: x.get('$oid') if isinstance(x, dict) else None)"
      ],
      "metadata": {
        "id": "hcz4UqZohzqh"
      },
      "execution_count": 15,
      "outputs": []
    },
    {
      "cell_type": "code",
      "source": [
        "# Extract dates from date columns\n",
        "def extract2(d):\n",
        "    try:\n",
        "        oid_value = d['$date']\n",
        "        return oid_value\n",
        "    except (KeyError, TypeError):\n",
        "        return None\n",
        "\n",
        "receipts['create_d'] = receipts['createDate'].apply(lambda x: extract2(x))\n",
        "receipts['scan_d'] = receipts['dateScanned'].apply(lambda x: extract2(x))\n",
        "receipts['finish_d'] = receipts['finishedDate'].apply(lambda x: extract2(x))\n",
        "receipts['modify_d'] = receipts['modifyDate'].apply(lambda x: extract2(x))\n",
        "receipts['point_d'] = receipts['pointsAwardedDate'].apply(lambda x: extract2(x))\n",
        "receipts['purchase_d'] = receipts['purchaseDate'].apply(lambda x: extract2(x))"
      ],
      "metadata": {
        "id": "0IyF5nR3cm_V"
      },
      "execution_count": 16,
      "outputs": []
    },
    {
      "cell_type": "code",
      "source": [
        "# Convert data to year and month\n",
        "from datetime import datetime\n",
        "receipts['create_ym'] = receipts['create_d'].apply(lambda x: datetime.fromtimestamp(x/1000).strftime('%Y-%m') if pd.notnull(x) else None)\n",
        "receipts['scan_ym'] = receipts['scan_d'].apply(lambda x: datetime.fromtimestamp(x/1000).strftime('%Y-%m') if pd.notnull(x) else None)\n",
        "receipts['finish_ym'] = receipts['finish_d'].apply(lambda x: datetime.fromtimestamp(x/1000).strftime('%Y-%m') if pd.notnull(x) else None)\n",
        "receipts['modify_ym'] = receipts['modify_d'].apply(lambda x: datetime.fromtimestamp(x/1000).strftime('%Y-%m') if pd.notnull(x) else None)\n",
        "receipts['point_ym'] = receipts['point_d'].apply(lambda x: datetime.fromtimestamp(x/1000).strftime('%Y-%m') if pd.notnull(x) else None)\n",
        "receipts['purchase_ym'] = receipts['purchase_d'].apply(lambda x: datetime.fromtimestamp(x/1000).strftime('%Y-%m') if pd.notnull(x) else None)"
      ],
      "metadata": {
        "id": "LtYppNkhjNZ5"
      },
      "execution_count": 17,
      "outputs": []
    },
    {
      "cell_type": "markdown",
      "source": [
        "### Drop irrelevant columns\n",
        "\n",
        "- Remove json formatted columns and columns that were used for retrieving and conversion.\n",
        "\n"
      ],
      "metadata": {
        "id": "xYo0R0msgPUy"
      }
    },
    {
      "cell_type": "code",
      "source": [
        "# Remove '_id','createDate','dateScanned','finishedDate','modifyDate','pointsAwardedDate','purchaseDate'\n",
        "colsToDrop = ['rewardsReceiptItemList','_id','create_d','scan_d','finish_d','modify_d','point_d','purchase_d','createDate','dateScanned','finishedDate','modifyDate','pointsAwardedDate','purchaseDate']\n",
        "receipts.drop(colsToDrop, axis=1, inplace=True)"
      ],
      "metadata": {
        "id": "N61PPKiHFBeJ"
      },
      "execution_count": 18,
      "outputs": []
    },
    {
      "cell_type": "code",
      "source": [
        "receipts.shape"
      ],
      "metadata": {
        "colab": {
          "base_uri": "https://localhost:8080/"
        },
        "id": "D35T_nR79CR1",
        "outputId": "e5442ef3-f481-482a-e0f8-b0765b1b8a50"
      },
      "execution_count": 19,
      "outputs": [
        {
          "output_type": "execute_result",
          "data": {
            "text/plain": [
              "(1119, 26)"
            ]
          },
          "metadata": {},
          "execution_count": 19
        }
      ]
    },
    {
      "cell_type": "markdown",
      "source": [
        "### Missing values\n",
        " - Customers may not earn bonus points. Null value reasonable.\n",
        " - But other than the bonus points related columns, other needs to be checked.\n",
        " - Barcodes column contatins empty string that is not recognized as na value."
      ],
      "metadata": {
        "id": "ifBgRqNsh7N0"
      }
    },
    {
      "cell_type": "code",
      "source": [
        "receipts.isna().sum()"
      ],
      "metadata": {
        "colab": {
          "base_uri": "https://localhost:8080/"
        },
        "id": "V6O6lZelhMnH",
        "outputId": "361def22-fe14-4ab8-aa68-5c5829426022"
      },
      "execution_count": 20,
      "outputs": [
        {
          "output_type": "execute_result",
          "data": {
            "text/plain": [
              "bonusPointsEarned          575\n",
              "bonusPointsEarnedReason    575\n",
              "pointsEarned               510\n",
              "purchasedItemCount         484\n",
              "rewardsReceiptStatus         0\n",
              "totalSpent                 435\n",
              "userId                       0\n",
              "barcodes                     0\n",
              "description                  0\n",
              "finalPrice                   0\n",
              "itemPrice                    0\n",
              "needsFetchReview             0\n",
              "partnerItemId                0\n",
              "preventTargetGapPoints       0\n",
              "quantityPurchased            0\n",
              "userFlaggedBarcode           0\n",
              "userFlaggedNewItem           0\n",
              "userFlaggedPrice             0\n",
              "userFlaggedQuantity          0\n",
              "receipt_id                   0\n",
              "create_ym                    0\n",
              "scan_ym                      0\n",
              "finish_ym                  551\n",
              "modify_ym                    0\n",
              "point_ym                   582\n",
              "purchase_ym                448\n",
              "dtype: int64"
            ]
          },
          "metadata": {},
          "execution_count": 20
        }
      ]
    },
    {
      "cell_type": "code",
      "source": [
        "# empty string not recognized as na value\n",
        "receipts['barcodes'].head()"
      ],
      "metadata": {
        "colab": {
          "base_uri": "https://localhost:8080/"
        },
        "id": "U3GdbCr9sYzF",
        "outputId": "867288a9-8d15-4fd5-cea3-c17f6e561e1c"
      },
      "execution_count": 21,
      "outputs": [
        {
          "output_type": "execute_result",
          "data": {
            "text/plain": [
              "0                 4011\n",
              "1    4011,028400642255\n",
              "2                     \n",
              "3                 4011\n",
              "4            4011,1234\n",
              "Name: barcodes, dtype: object"
            ]
          },
          "metadata": {},
          "execution_count": 21
        }
      ]
    },
    {
      "cell_type": "code",
      "source": [
        "receipts.head(5)"
      ],
      "metadata": {
        "colab": {
          "base_uri": "https://localhost:8080/",
          "height": 377
        },
        "id": "BWRrj5bE1sZl",
        "outputId": "e6c3ffa7-6b74-4b36-c1fa-f0fb95dfc8ed"
      },
      "execution_count": 22,
      "outputs": [
        {
          "output_type": "execute_result",
          "data": {
            "text/plain": [
              "   bonusPointsEarned                            bonusPointsEarnedReason  \\\n",
              "0              500.0  Receipt number 2 completed, bonus point schedu...   \n",
              "1              150.0  Receipt number 5 completed, bonus point schedu...   \n",
              "2                5.0                         All-receipts receipt bonus   \n",
              "3                5.0                         All-receipts receipt bonus   \n",
              "4                5.0                         All-receipts receipt bonus   \n",
              "\n",
              "  pointsEarned  purchasedItemCount rewardsReceiptStatus totalSpent  \\\n",
              "0        500.0                 5.0             FINISHED      26.00   \n",
              "1        150.0                 2.0             FINISHED      11.00   \n",
              "2            5                 1.0             REJECTED      10.00   \n",
              "3          5.0                 4.0             FINISHED      28.00   \n",
              "4          5.0                 2.0             FINISHED       1.00   \n",
              "\n",
              "                     userId           barcodes  \\\n",
              "0  5ff1e1eacfcf6c399c274ae6               4011   \n",
              "1  5ff1e194b6a9d73a3a9f1052  4011,028400642255   \n",
              "2  5ff1e1f1cfcf6c399c274b0b                      \n",
              "3  5ff1e1eacfcf6c399c274ae6               4011   \n",
              "4  5ff1e194b6a9d73a3a9f1052          4011,1234   \n",
              "\n",
              "                                         description finalPrice  ...  \\\n",
              "0                                     ITEM NOT FOUND      26.00  ...   \n",
              "1  ITEM NOT FOUND,DORITOS TORTILLA CHIP SPICY SWE...    1,10.00  ...   \n",
              "2                                                                ...   \n",
              "3                                     ITEM NOT FOUND      28.00  ...   \n",
              "4                                     ITEM NOT FOUND     1,2.56  ...   \n",
              "\n",
              "  userFlaggedNewItem userFlaggedPrice userFlaggedQuantity  \\\n",
              "0               True            26.00                   5   \n",
              "1               True            10.00                   1   \n",
              "2               True            26.00                   3   \n",
              "3               True            28.00                   4   \n",
              "4               True             2.56                   3   \n",
              "\n",
              "                 receipt_id create_ym  scan_ym finish_ym modify_ym point_ym  \\\n",
              "0  5ff1e1eb0a720f0523000575   2021-01  2021-01   2021-01   2021-01  2021-01   \n",
              "1  5ff1e1bb0a720f052300056b   2021-01  2021-01   2021-01   2021-01  2021-01   \n",
              "2  5ff1e1f10a720f052300057a   2021-01  2021-01      None   2021-01     None   \n",
              "3  5ff1e1ee0a7214ada100056f   2021-01  2021-01   2021-01   2021-01  2021-01   \n",
              "4  5ff1e1d20a7214ada1000561   2021-01  2021-01   2021-01   2021-01  2021-01   \n",
              "\n",
              "  purchase_ym  \n",
              "0     2021-01  \n",
              "1     2021-01  \n",
              "2     2021-01  \n",
              "3     2021-01  \n",
              "4     2021-01  \n",
              "\n",
              "[5 rows x 26 columns]"
            ],
            "text/html": [
              "\n",
              "  <div id=\"df-9e279ef1-ef33-47f5-b5b3-11c4c5419f6e\" class=\"colab-df-container\">\n",
              "    <div>\n",
              "<style scoped>\n",
              "    .dataframe tbody tr th:only-of-type {\n",
              "        vertical-align: middle;\n",
              "    }\n",
              "\n",
              "    .dataframe tbody tr th {\n",
              "        vertical-align: top;\n",
              "    }\n",
              "\n",
              "    .dataframe thead th {\n",
              "        text-align: right;\n",
              "    }\n",
              "</style>\n",
              "<table border=\"1\" class=\"dataframe\">\n",
              "  <thead>\n",
              "    <tr style=\"text-align: right;\">\n",
              "      <th></th>\n",
              "      <th>bonusPointsEarned</th>\n",
              "      <th>bonusPointsEarnedReason</th>\n",
              "      <th>pointsEarned</th>\n",
              "      <th>purchasedItemCount</th>\n",
              "      <th>rewardsReceiptStatus</th>\n",
              "      <th>totalSpent</th>\n",
              "      <th>userId</th>\n",
              "      <th>barcodes</th>\n",
              "      <th>description</th>\n",
              "      <th>finalPrice</th>\n",
              "      <th>...</th>\n",
              "      <th>userFlaggedNewItem</th>\n",
              "      <th>userFlaggedPrice</th>\n",
              "      <th>userFlaggedQuantity</th>\n",
              "      <th>receipt_id</th>\n",
              "      <th>create_ym</th>\n",
              "      <th>scan_ym</th>\n",
              "      <th>finish_ym</th>\n",
              "      <th>modify_ym</th>\n",
              "      <th>point_ym</th>\n",
              "      <th>purchase_ym</th>\n",
              "    </tr>\n",
              "  </thead>\n",
              "  <tbody>\n",
              "    <tr>\n",
              "      <th>0</th>\n",
              "      <td>500.0</td>\n",
              "      <td>Receipt number 2 completed, bonus point schedu...</td>\n",
              "      <td>500.0</td>\n",
              "      <td>5.0</td>\n",
              "      <td>FINISHED</td>\n",
              "      <td>26.00</td>\n",
              "      <td>5ff1e1eacfcf6c399c274ae6</td>\n",
              "      <td>4011</td>\n",
              "      <td>ITEM NOT FOUND</td>\n",
              "      <td>26.00</td>\n",
              "      <td>...</td>\n",
              "      <td>True</td>\n",
              "      <td>26.00</td>\n",
              "      <td>5</td>\n",
              "      <td>5ff1e1eb0a720f0523000575</td>\n",
              "      <td>2021-01</td>\n",
              "      <td>2021-01</td>\n",
              "      <td>2021-01</td>\n",
              "      <td>2021-01</td>\n",
              "      <td>2021-01</td>\n",
              "      <td>2021-01</td>\n",
              "    </tr>\n",
              "    <tr>\n",
              "      <th>1</th>\n",
              "      <td>150.0</td>\n",
              "      <td>Receipt number 5 completed, bonus point schedu...</td>\n",
              "      <td>150.0</td>\n",
              "      <td>2.0</td>\n",
              "      <td>FINISHED</td>\n",
              "      <td>11.00</td>\n",
              "      <td>5ff1e194b6a9d73a3a9f1052</td>\n",
              "      <td>4011,028400642255</td>\n",
              "      <td>ITEM NOT FOUND,DORITOS TORTILLA CHIP SPICY SWE...</td>\n",
              "      <td>1,10.00</td>\n",
              "      <td>...</td>\n",
              "      <td>True</td>\n",
              "      <td>10.00</td>\n",
              "      <td>1</td>\n",
              "      <td>5ff1e1bb0a720f052300056b</td>\n",
              "      <td>2021-01</td>\n",
              "      <td>2021-01</td>\n",
              "      <td>2021-01</td>\n",
              "      <td>2021-01</td>\n",
              "      <td>2021-01</td>\n",
              "      <td>2021-01</td>\n",
              "    </tr>\n",
              "    <tr>\n",
              "      <th>2</th>\n",
              "      <td>5.0</td>\n",
              "      <td>All-receipts receipt bonus</td>\n",
              "      <td>5</td>\n",
              "      <td>1.0</td>\n",
              "      <td>REJECTED</td>\n",
              "      <td>10.00</td>\n",
              "      <td>5ff1e1f1cfcf6c399c274b0b</td>\n",
              "      <td></td>\n",
              "      <td></td>\n",
              "      <td></td>\n",
              "      <td>...</td>\n",
              "      <td>True</td>\n",
              "      <td>26.00</td>\n",
              "      <td>3</td>\n",
              "      <td>5ff1e1f10a720f052300057a</td>\n",
              "      <td>2021-01</td>\n",
              "      <td>2021-01</td>\n",
              "      <td>None</td>\n",
              "      <td>2021-01</td>\n",
              "      <td>None</td>\n",
              "      <td>2021-01</td>\n",
              "    </tr>\n",
              "    <tr>\n",
              "      <th>3</th>\n",
              "      <td>5.0</td>\n",
              "      <td>All-receipts receipt bonus</td>\n",
              "      <td>5.0</td>\n",
              "      <td>4.0</td>\n",
              "      <td>FINISHED</td>\n",
              "      <td>28.00</td>\n",
              "      <td>5ff1e1eacfcf6c399c274ae6</td>\n",
              "      <td>4011</td>\n",
              "      <td>ITEM NOT FOUND</td>\n",
              "      <td>28.00</td>\n",
              "      <td>...</td>\n",
              "      <td>True</td>\n",
              "      <td>28.00</td>\n",
              "      <td>4</td>\n",
              "      <td>5ff1e1ee0a7214ada100056f</td>\n",
              "      <td>2021-01</td>\n",
              "      <td>2021-01</td>\n",
              "      <td>2021-01</td>\n",
              "      <td>2021-01</td>\n",
              "      <td>2021-01</td>\n",
              "      <td>2021-01</td>\n",
              "    </tr>\n",
              "    <tr>\n",
              "      <th>4</th>\n",
              "      <td>5.0</td>\n",
              "      <td>All-receipts receipt bonus</td>\n",
              "      <td>5.0</td>\n",
              "      <td>2.0</td>\n",
              "      <td>FINISHED</td>\n",
              "      <td>1.00</td>\n",
              "      <td>5ff1e194b6a9d73a3a9f1052</td>\n",
              "      <td>4011,1234</td>\n",
              "      <td>ITEM NOT FOUND</td>\n",
              "      <td>1,2.56</td>\n",
              "      <td>...</td>\n",
              "      <td>True</td>\n",
              "      <td>2.56</td>\n",
              "      <td>3</td>\n",
              "      <td>5ff1e1d20a7214ada1000561</td>\n",
              "      <td>2021-01</td>\n",
              "      <td>2021-01</td>\n",
              "      <td>2021-01</td>\n",
              "      <td>2021-01</td>\n",
              "      <td>2021-01</td>\n",
              "      <td>2021-01</td>\n",
              "    </tr>\n",
              "  </tbody>\n",
              "</table>\n",
              "<p>5 rows × 26 columns</p>\n",
              "</div>\n",
              "    <div class=\"colab-df-buttons\">\n",
              "\n",
              "  <div class=\"colab-df-container\">\n",
              "    <button class=\"colab-df-convert\" onclick=\"convertToInteractive('df-9e279ef1-ef33-47f5-b5b3-11c4c5419f6e')\"\n",
              "            title=\"Convert this dataframe to an interactive table.\"\n",
              "            style=\"display:none;\">\n",
              "\n",
              "  <svg xmlns=\"http://www.w3.org/2000/svg\" height=\"24px\" viewBox=\"0 -960 960 960\">\n",
              "    <path d=\"M120-120v-720h720v720H120Zm60-500h600v-160H180v160Zm220 220h160v-160H400v160Zm0 220h160v-160H400v160ZM180-400h160v-160H180v160Zm440 0h160v-160H620v160ZM180-180h160v-160H180v160Zm440 0h160v-160H620v160Z\"/>\n",
              "  </svg>\n",
              "    </button>\n",
              "\n",
              "  <style>\n",
              "    .colab-df-container {\n",
              "      display:flex;\n",
              "      gap: 12px;\n",
              "    }\n",
              "\n",
              "    .colab-df-convert {\n",
              "      background-color: #E8F0FE;\n",
              "      border: none;\n",
              "      border-radius: 50%;\n",
              "      cursor: pointer;\n",
              "      display: none;\n",
              "      fill: #1967D2;\n",
              "      height: 32px;\n",
              "      padding: 0 0 0 0;\n",
              "      width: 32px;\n",
              "    }\n",
              "\n",
              "    .colab-df-convert:hover {\n",
              "      background-color: #E2EBFA;\n",
              "      box-shadow: 0px 1px 2px rgba(60, 64, 67, 0.3), 0px 1px 3px 1px rgba(60, 64, 67, 0.15);\n",
              "      fill: #174EA6;\n",
              "    }\n",
              "\n",
              "    .colab-df-buttons div {\n",
              "      margin-bottom: 4px;\n",
              "    }\n",
              "\n",
              "    [theme=dark] .colab-df-convert {\n",
              "      background-color: #3B4455;\n",
              "      fill: #D2E3FC;\n",
              "    }\n",
              "\n",
              "    [theme=dark] .colab-df-convert:hover {\n",
              "      background-color: #434B5C;\n",
              "      box-shadow: 0px 1px 3px 1px rgba(0, 0, 0, 0.15);\n",
              "      filter: drop-shadow(0px 1px 2px rgba(0, 0, 0, 0.3));\n",
              "      fill: #FFFFFF;\n",
              "    }\n",
              "  </style>\n",
              "\n",
              "    <script>\n",
              "      const buttonEl =\n",
              "        document.querySelector('#df-9e279ef1-ef33-47f5-b5b3-11c4c5419f6e button.colab-df-convert');\n",
              "      buttonEl.style.display =\n",
              "        google.colab.kernel.accessAllowed ? 'block' : 'none';\n",
              "\n",
              "      async function convertToInteractive(key) {\n",
              "        const element = document.querySelector('#df-9e279ef1-ef33-47f5-b5b3-11c4c5419f6e');\n",
              "        const dataTable =\n",
              "          await google.colab.kernel.invokeFunction('convertToInteractive',\n",
              "                                                    [key], {});\n",
              "        if (!dataTable) return;\n",
              "\n",
              "        const docLinkHtml = 'Like what you see? Visit the ' +\n",
              "          '<a target=\"_blank\" href=https://colab.research.google.com/notebooks/data_table.ipynb>data table notebook</a>'\n",
              "          + ' to learn more about interactive tables.';\n",
              "        element.innerHTML = '';\n",
              "        dataTable['output_type'] = 'display_data';\n",
              "        await google.colab.output.renderOutput(dataTable, element);\n",
              "        const docLink = document.createElement('div');\n",
              "        docLink.innerHTML = docLinkHtml;\n",
              "        element.appendChild(docLink);\n",
              "      }\n",
              "    </script>\n",
              "  </div>\n",
              "\n",
              "\n",
              "<div id=\"df-e628af4d-13b8-4b6b-918b-b95bafb51661\">\n",
              "  <button class=\"colab-df-quickchart\" onclick=\"quickchart('df-e628af4d-13b8-4b6b-918b-b95bafb51661')\"\n",
              "            title=\"Suggest charts\"\n",
              "            style=\"display:none;\">\n",
              "\n",
              "<svg xmlns=\"http://www.w3.org/2000/svg\" height=\"24px\"viewBox=\"0 0 24 24\"\n",
              "     width=\"24px\">\n",
              "    <g>\n",
              "        <path d=\"M19 3H5c-1.1 0-2 .9-2 2v14c0 1.1.9 2 2 2h14c1.1 0 2-.9 2-2V5c0-1.1-.9-2-2-2zM9 17H7v-7h2v7zm4 0h-2V7h2v10zm4 0h-2v-4h2v4z\"/>\n",
              "    </g>\n",
              "</svg>\n",
              "  </button>\n",
              "\n",
              "<style>\n",
              "  .colab-df-quickchart {\n",
              "      --bg-color: #E8F0FE;\n",
              "      --fill-color: #1967D2;\n",
              "      --hover-bg-color: #E2EBFA;\n",
              "      --hover-fill-color: #174EA6;\n",
              "      --disabled-fill-color: #AAA;\n",
              "      --disabled-bg-color: #DDD;\n",
              "  }\n",
              "\n",
              "  [theme=dark] .colab-df-quickchart {\n",
              "      --bg-color: #3B4455;\n",
              "      --fill-color: #D2E3FC;\n",
              "      --hover-bg-color: #434B5C;\n",
              "      --hover-fill-color: #FFFFFF;\n",
              "      --disabled-bg-color: #3B4455;\n",
              "      --disabled-fill-color: #666;\n",
              "  }\n",
              "\n",
              "  .colab-df-quickchart {\n",
              "    background-color: var(--bg-color);\n",
              "    border: none;\n",
              "    border-radius: 50%;\n",
              "    cursor: pointer;\n",
              "    display: none;\n",
              "    fill: var(--fill-color);\n",
              "    height: 32px;\n",
              "    padding: 0;\n",
              "    width: 32px;\n",
              "  }\n",
              "\n",
              "  .colab-df-quickchart:hover {\n",
              "    background-color: var(--hover-bg-color);\n",
              "    box-shadow: 0 1px 2px rgba(60, 64, 67, 0.3), 0 1px 3px 1px rgba(60, 64, 67, 0.15);\n",
              "    fill: var(--button-hover-fill-color);\n",
              "  }\n",
              "\n",
              "  .colab-df-quickchart-complete:disabled,\n",
              "  .colab-df-quickchart-complete:disabled:hover {\n",
              "    background-color: var(--disabled-bg-color);\n",
              "    fill: var(--disabled-fill-color);\n",
              "    box-shadow: none;\n",
              "  }\n",
              "\n",
              "  .colab-df-spinner {\n",
              "    border: 2px solid var(--fill-color);\n",
              "    border-color: transparent;\n",
              "    border-bottom-color: var(--fill-color);\n",
              "    animation:\n",
              "      spin 1s steps(1) infinite;\n",
              "  }\n",
              "\n",
              "  @keyframes spin {\n",
              "    0% {\n",
              "      border-color: transparent;\n",
              "      border-bottom-color: var(--fill-color);\n",
              "      border-left-color: var(--fill-color);\n",
              "    }\n",
              "    20% {\n",
              "      border-color: transparent;\n",
              "      border-left-color: var(--fill-color);\n",
              "      border-top-color: var(--fill-color);\n",
              "    }\n",
              "    30% {\n",
              "      border-color: transparent;\n",
              "      border-left-color: var(--fill-color);\n",
              "      border-top-color: var(--fill-color);\n",
              "      border-right-color: var(--fill-color);\n",
              "    }\n",
              "    40% {\n",
              "      border-color: transparent;\n",
              "      border-right-color: var(--fill-color);\n",
              "      border-top-color: var(--fill-color);\n",
              "    }\n",
              "    60% {\n",
              "      border-color: transparent;\n",
              "      border-right-color: var(--fill-color);\n",
              "    }\n",
              "    80% {\n",
              "      border-color: transparent;\n",
              "      border-right-color: var(--fill-color);\n",
              "      border-bottom-color: var(--fill-color);\n",
              "    }\n",
              "    90% {\n",
              "      border-color: transparent;\n",
              "      border-bottom-color: var(--fill-color);\n",
              "    }\n",
              "  }\n",
              "</style>\n",
              "\n",
              "  <script>\n",
              "    async function quickchart(key) {\n",
              "      const quickchartButtonEl =\n",
              "        document.querySelector('#' + key + ' button');\n",
              "      quickchartButtonEl.disabled = true;  // To prevent multiple clicks.\n",
              "      quickchartButtonEl.classList.add('colab-df-spinner');\n",
              "      try {\n",
              "        const charts = await google.colab.kernel.invokeFunction(\n",
              "            'suggestCharts', [key], {});\n",
              "      } catch (error) {\n",
              "        console.error('Error during call to suggestCharts:', error);\n",
              "      }\n",
              "      quickchartButtonEl.classList.remove('colab-df-spinner');\n",
              "      quickchartButtonEl.classList.add('colab-df-quickchart-complete');\n",
              "    }\n",
              "    (() => {\n",
              "      let quickchartButtonEl =\n",
              "        document.querySelector('#df-e628af4d-13b8-4b6b-918b-b95bafb51661 button');\n",
              "      quickchartButtonEl.style.display =\n",
              "        google.colab.kernel.accessAllowed ? 'block' : 'none';\n",
              "    })();\n",
              "  </script>\n",
              "</div>\n",
              "\n",
              "    </div>\n",
              "  </div>\n"
            ],
            "application/vnd.google.colaboratory.intrinsic+json": {
              "type": "dataframe",
              "variable_name": "receipts"
            }
          },
          "metadata": {},
          "execution_count": 22
        }
      ]
    },
    {
      "cell_type": "markdown",
      "source": [
        "### Data issues\n",
        " - Empty string not recognized as na value\n",
        " - Multiple values in barcodes, finalPrice, itemPrice, partnerItemId, quantityPurchased columns. First form normalization needed.\n",
        " - Split the barcodes to use as foreign key.\n",
        " - pointsEarned, totalSpent, finalPrice, itemPrice, quantityPurchased data types are object. Data type need to be changed to numeric."
      ],
      "metadata": {
        "id": "C34fXHbuiVvz"
      }
    },
    {
      "cell_type": "code",
      "source": [
        "import numpy as np\n",
        "receipts['barcodes'] = receipts['barcodes'].replace(r'^\\s*$', np.nan, regex=True)"
      ],
      "metadata": {
        "id": "jh--MBl1Dm1i"
      },
      "execution_count": 23,
      "outputs": []
    },
    {
      "cell_type": "code",
      "source": [
        "receipts['barcodes'] = receipts['barcodes'].str.split(',')\n",
        "receipts = receipts.explode('barcodes')\n",
        "receipts.rename(columns={'barcodes': 'barcode'}, inplace=True)\n",
        "receipts['barcode'] = receipts['barcode'].str.strip()"
      ],
      "metadata": {
        "id": "9_eGKNiA3eLM"
      },
      "execution_count": 24,
      "outputs": []
    },
    {
      "cell_type": "code",
      "source": [
        "to_convert = ['pointsEarned', 'totalSpent', 'finalPrice', 'itemPrice', 'quantityPurchased']\n",
        "\n",
        "# Convert each column to numeric, coercing errors to NaN\n",
        "for column in to_convert:\n",
        "    receipts[column] = pd.to_numeric(receipts[column], errors='coerce')"
      ],
      "metadata": {
        "id": "JIzv-rmokPUl"
      },
      "execution_count": 25,
      "outputs": []
    },
    {
      "cell_type": "code",
      "source": [
        "receipts.shape"
      ],
      "metadata": {
        "colab": {
          "base_uri": "https://localhost:8080/"
        },
        "id": "AB2_KPQ7DGqQ",
        "outputId": "72339ee4-fc27-4c00-b40e-d3b1a4287bc0"
      },
      "execution_count": 26,
      "outputs": [
        {
          "output_type": "execute_result",
          "data": {
            "text/plain": [
              "(3616, 26)"
            ]
          },
          "metadata": {},
          "execution_count": 26
        }
      ]
    },
    {
      "cell_type": "code",
      "source": [
        "receipts.info()"
      ],
      "metadata": {
        "colab": {
          "base_uri": "https://localhost:8080/"
        },
        "id": "8VmaJbwAkc4I",
        "outputId": "9d89665e-94a4-4d50-cb42-f9d68f50f264"
      },
      "execution_count": 27,
      "outputs": [
        {
          "output_type": "stream",
          "name": "stdout",
          "text": [
            "<class 'pandas.core.frame.DataFrame'>\n",
            "Int64Index: 3616 entries, 0 to 1118\n",
            "Data columns (total 26 columns):\n",
            " #   Column                   Non-Null Count  Dtype  \n",
            "---  ------                   --------------  -----  \n",
            " 0   bonusPointsEarned        2709 non-null   float64\n",
            " 1   bonusPointsEarnedReason  2709 non-null   object \n",
            " 2   pointsEarned             2972 non-null   float64\n",
            " 3   purchasedItemCount       3132 non-null   float64\n",
            " 4   rewardsReceiptStatus     3616 non-null   object \n",
            " 5   totalSpent               3181 non-null   float64\n",
            " 6   userId                   3616 non-null   object \n",
            " 7   barcode                  3090 non-null   object \n",
            " 8   description              3616 non-null   object \n",
            " 9   finalPrice               433 non-null    float64\n",
            " 10  itemPrice                433 non-null    float64\n",
            " 11  needsFetchReview         3616 non-null   object \n",
            " 12  partnerItemId            3616 non-null   object \n",
            " 13  preventTargetGapPoints   3616 non-null   object \n",
            " 14  quantityPurchased        433 non-null    float64\n",
            " 15  userFlaggedBarcode       3616 non-null   object \n",
            " 16  userFlaggedNewItem       3616 non-null   object \n",
            " 17  userFlaggedPrice         3616 non-null   object \n",
            " 18  userFlaggedQuantity      3616 non-null   object \n",
            " 19  receipt_id               3616 non-null   object \n",
            " 20  create_ym                3616 non-null   object \n",
            " 21  scan_ym                  3616 non-null   object \n",
            " 22  finish_ym                2819 non-null   object \n",
            " 23  modify_ym                3616 non-null   object \n",
            " 24  point_ym                 2805 non-null   object \n",
            " 25  purchase_ym              3168 non-null   object \n",
            "dtypes: float64(7), object(19)\n",
            "memory usage: 762.8+ KB\n"
          ]
        }
      ]
    },
    {
      "cell_type": "code",
      "source": [
        "receipts.isna().sum()"
      ],
      "metadata": {
        "colab": {
          "base_uri": "https://localhost:8080/"
        },
        "id": "uix9j6Wlrvx6",
        "outputId": "12069290-b1ee-4328-bb40-e0ca22271ffe"
      },
      "execution_count": 28,
      "outputs": [
        {
          "output_type": "execute_result",
          "data": {
            "text/plain": [
              "bonusPointsEarned           907\n",
              "bonusPointsEarnedReason     907\n",
              "pointsEarned                644\n",
              "purchasedItemCount          484\n",
              "rewardsReceiptStatus          0\n",
              "totalSpent                  435\n",
              "userId                        0\n",
              "barcode                     526\n",
              "description                   0\n",
              "finalPrice                 3183\n",
              "itemPrice                  3183\n",
              "needsFetchReview              0\n",
              "partnerItemId                 0\n",
              "preventTargetGapPoints        0\n",
              "quantityPurchased          3183\n",
              "userFlaggedBarcode            0\n",
              "userFlaggedNewItem            0\n",
              "userFlaggedPrice              0\n",
              "userFlaggedQuantity           0\n",
              "receipt_id                    0\n",
              "create_ym                     0\n",
              "scan_ym                       0\n",
              "finish_ym                   797\n",
              "modify_ym                     0\n",
              "point_ym                    811\n",
              "purchase_ym                 448\n",
              "dtype: int64"
            ]
          },
          "metadata": {},
          "execution_count": 28
        }
      ]
    },
    {
      "cell_type": "markdown",
      "source": [
        "### Sqlite3 table conversion"
      ],
      "metadata": {
        "id": "Bw_Ji6dOrJry"
      }
    },
    {
      "cell_type": "code",
      "source": [
        "for column in receipts.select_dtypes(include=['float64']).columns:\n",
        "    receipts[column] = receipts[column].fillna(0).astype(int)"
      ],
      "metadata": {
        "id": "6cv6n_ynyX4B"
      },
      "execution_count": 29,
      "outputs": []
    },
    {
      "cell_type": "code",
      "source": [
        "receipts.to_sql('receipts', conn, if_exists='replace', index=False)"
      ],
      "metadata": {
        "colab": {
          "base_uri": "https://localhost:8080/"
        },
        "id": "E1_M3TfAQow8",
        "outputId": "8e8b58ba-c5a0-49ac-f5ca-81d537622e2e"
      },
      "execution_count": 30,
      "outputs": [
        {
          "output_type": "execute_result",
          "data": {
            "text/plain": [
              "3616"
            ]
          },
          "metadata": {},
          "execution_count": 30
        }
      ]
    },
    {
      "cell_type": "code",
      "source": [
        "file_name = 'receipts.xlsx'\n",
        "receipts.to_excel(file_name, index=False)"
      ],
      "metadata": {
        "id": "ywMgTEe9jf5R"
      },
      "execution_count": 31,
      "outputs": []
    },
    {
      "cell_type": "markdown",
      "source": [
        "### **Users Table**\n",
        " - Read json file.\n",
        " - Retrieve id values within the oid dictionary.\n",
        " - Retrieve and convert dates from date dictionary."
      ],
      "metadata": {
        "id": "wbyl397mtlv1"
      }
    },
    {
      "cell_type": "code",
      "source": [
        "with open('/content/users.json', 'r') as file:\n",
        "    json_text = file.read()\n",
        "\n",
        "json_objects = json_text.strip().split('\\n')\n",
        "data2 = [json.loads(obj) for obj in json_objects]\n",
        "users = pd.DataFrame(data2)"
      ],
      "metadata": {
        "id": "ZYs7GXPfTimz"
      },
      "execution_count": 32,
      "outputs": []
    },
    {
      "cell_type": "code",
      "source": [
        "users['create_d'] = users['createdDate'].apply(lambda x: extract2(x))\n",
        "users['login_d'] = users['lastLogin'].apply(lambda x: extract2(x))\n",
        "users['user_id'] = users['_id'].apply(lambda x: x.get('$oid') if isinstance(x, dict) else None)"
      ],
      "metadata": {
        "id": "nwJ7xdmGOCm1"
      },
      "execution_count": 33,
      "outputs": []
    },
    {
      "cell_type": "code",
      "source": [
        "users['create_ym'] = users['create_d'].apply(lambda x: datetime.fromtimestamp(x/1000).strftime('%Y-%m') if pd.notnull(x) else None)\n",
        "users['scan_ym'] = users['login_d'].apply(lambda x: datetime.fromtimestamp(x/1000).strftime('%Y-%m') if pd.notnull(x) else None)"
      ],
      "metadata": {
        "id": "phBJl0uDOZQA"
      },
      "execution_count": 34,
      "outputs": []
    },
    {
      "cell_type": "markdown",
      "source": [
        "### Missing values\n",
        " - Missing values in lastLogin, signUpSource, state and scan_ym columns."
      ],
      "metadata": {
        "id": "shq7lixUukKO"
      }
    },
    {
      "cell_type": "code",
      "source": [
        "users.shape"
      ],
      "metadata": {
        "colab": {
          "base_uri": "https://localhost:8080/"
        },
        "id": "omRwUPVautU2",
        "outputId": "0d168aa7-78ca-405a-b8e2-3085a7e9e4eb"
      },
      "execution_count": 35,
      "outputs": [
        {
          "output_type": "execute_result",
          "data": {
            "text/plain": [
              "(495, 12)"
            ]
          },
          "metadata": {},
          "execution_count": 35
        }
      ]
    },
    {
      "cell_type": "code",
      "source": [
        "users.isna().sum()"
      ],
      "metadata": {
        "colab": {
          "base_uri": "https://localhost:8080/"
        },
        "id": "A35gxH5uumw1",
        "outputId": "4f6a6319-8a92-4139-b7a5-b4c8333b7814"
      },
      "execution_count": 36,
      "outputs": [
        {
          "output_type": "execute_result",
          "data": {
            "text/plain": [
              "_id              0\n",
              "active           0\n",
              "createdDate      0\n",
              "lastLogin       62\n",
              "role             0\n",
              "signUpSource    48\n",
              "state           56\n",
              "create_d         0\n",
              "login_d         62\n",
              "user_id          0\n",
              "create_ym        0\n",
              "scan_ym         62\n",
              "dtype: int64"
            ]
          },
          "metadata": {},
          "execution_count": 36
        }
      ]
    },
    {
      "cell_type": "markdown",
      "source": [
        "### Consistent Values\n",
        " - Values are consistent across categorical or text columns"
      ],
      "metadata": {
        "id": "OaO5vVyHvTlT"
      }
    },
    {
      "cell_type": "code",
      "source": [
        "users['signUpSource'].value_counts()"
      ],
      "metadata": {
        "colab": {
          "base_uri": "https://localhost:8080/"
        },
        "id": "ZnKZdLbvvcDM",
        "outputId": "bff6177d-e9c8-4321-f396-650bf972fe8e"
      },
      "execution_count": 37,
      "outputs": [
        {
          "output_type": "execute_result",
          "data": {
            "text/plain": [
              "Email     443\n",
              "Google      4\n",
              "Name: signUpSource, dtype: int64"
            ]
          },
          "metadata": {},
          "execution_count": 37
        }
      ]
    },
    {
      "cell_type": "code",
      "source": [
        "users['role'].value_counts()"
      ],
      "metadata": {
        "colab": {
          "base_uri": "https://localhost:8080/"
        },
        "id": "1akBs0c-vp2k",
        "outputId": "a0b2de85-ef60-4257-8b59-a8e75cce9d38"
      },
      "execution_count": 38,
      "outputs": [
        {
          "output_type": "execute_result",
          "data": {
            "text/plain": [
              "consumer       413\n",
              "fetch-staff     82\n",
              "Name: role, dtype: int64"
            ]
          },
          "metadata": {},
          "execution_count": 38
        }
      ]
    },
    {
      "cell_type": "code",
      "source": [
        "users['state'].value_counts()"
      ],
      "metadata": {
        "colab": {
          "base_uri": "https://localhost:8080/"
        },
        "id": "FwbkopAmvsJx",
        "outputId": "0082be17-7829-45af-9cc9-45237ffe3e12"
      },
      "execution_count": 39,
      "outputs": [
        {
          "output_type": "execute_result",
          "data": {
            "text/plain": [
              "WI    396\n",
              "NH     20\n",
              "AL     12\n",
              "OH      5\n",
              "IL      3\n",
              "KY      1\n",
              "CO      1\n",
              "SC      1\n",
              "Name: state, dtype: int64"
            ]
          },
          "metadata": {},
          "execution_count": 39
        }
      ]
    },
    {
      "cell_type": "code",
      "source": [
        "users['active'].value_counts()"
      ],
      "metadata": {
        "colab": {
          "base_uri": "https://localhost:8080/"
        },
        "id": "ADNH3yBavxcH",
        "outputId": "f426e461-807f-479c-efa3-37968c8319be"
      },
      "execution_count": 40,
      "outputs": [
        {
          "output_type": "execute_result",
          "data": {
            "text/plain": [
              "True     494\n",
              "False      1\n",
              "Name: active, dtype: int64"
            ]
          },
          "metadata": {},
          "execution_count": 40
        }
      ]
    },
    {
      "cell_type": "markdown",
      "source": [
        "### Remove irrelevant columns\n",
        " -  Remove json formatted columns and columns that were used for retrieving and conversion."
      ],
      "metadata": {
        "id": "bg9szD6qwIvN"
      }
    },
    {
      "cell_type": "code",
      "source": [
        "colsToDrop = ['_id','createdDate','lastLogin']\n",
        "users.drop(colsToDrop, axis=1, inplace=True)"
      ],
      "metadata": {
        "id": "nYD82dDzwM1p"
      },
      "execution_count": 41,
      "outputs": []
    },
    {
      "cell_type": "markdown",
      "source": [
        "### Check duplicates\n",
        " - Within the users table, 283 users are duplicated in the 495 data points in the table.\n",
        " - Drop the 283 duplicated users."
      ],
      "metadata": {
        "id": "xupe6LZ4v8La"
      }
    },
    {
      "cell_type": "code",
      "source": [
        "users.duplicated().any()"
      ],
      "metadata": {
        "colab": {
          "base_uri": "https://localhost:8080/"
        },
        "id": "fNaOCt-_w3ns",
        "outputId": "c7c95d59-d4e9-4feb-a50f-95069dc45879"
      },
      "execution_count": 42,
      "outputs": [
        {
          "output_type": "execute_result",
          "data": {
            "text/plain": [
              "True"
            ]
          },
          "metadata": {},
          "execution_count": 42
        }
      ]
    },
    {
      "cell_type": "code",
      "source": [
        "users['user_id'].duplicated().sum()"
      ],
      "metadata": {
        "colab": {
          "base_uri": "https://localhost:8080/"
        },
        "id": "VU8WmeNDyQie",
        "outputId": "6473fe55-a56e-40ec-e514-905c1e2bbfb8"
      },
      "execution_count": 43,
      "outputs": [
        {
          "output_type": "execute_result",
          "data": {
            "text/plain": [
              "283"
            ]
          },
          "metadata": {},
          "execution_count": 43
        }
      ]
    },
    {
      "cell_type": "code",
      "source": [
        "users = users.drop_duplicates()"
      ],
      "metadata": {
        "id": "MbhYmBxnyvsK"
      },
      "execution_count": 44,
      "outputs": []
    },
    {
      "cell_type": "markdown",
      "source": [
        "### Sqlite3 table conversion"
      ],
      "metadata": {
        "id": "foARL6ebt7cv"
      }
    },
    {
      "cell_type": "code",
      "source": [
        "for column in users.select_dtypes(include=['float64']).columns:\n",
        "    users[column] = users[column].fillna(0).astype(int)"
      ],
      "metadata": {
        "id": "Lc4jco2KuXR1"
      },
      "execution_count": null,
      "outputs": []
    },
    {
      "cell_type": "code",
      "source": [
        "users.to_sql('users', conn, if_exists='replace', index=False)"
      ],
      "metadata": {
        "colab": {
          "base_uri": "https://localhost:8080/"
        },
        "id": "cCs1qiUFuXb_",
        "outputId": "64394395-f40b-4433-a738-68ecfe6c2330"
      },
      "execution_count": 46,
      "outputs": [
        {
          "output_type": "execute_result",
          "data": {
            "text/plain": [
              "212"
            ]
          },
          "metadata": {},
          "execution_count": 46
        }
      ]
    },
    {
      "cell_type": "code",
      "source": [
        "file_name = 'users.xlsx'\n",
        "users.to_excel(file_name, index=False)"
      ],
      "metadata": {
        "id": "ddm326GtRnVF"
      },
      "execution_count": 47,
      "outputs": []
    },
    {
      "cell_type": "markdown",
      "source": [
        "### **Business questions - TOP 5 brands**\n",
        "\n",
        "- What are the top 5 brands by receipts scanned for most recent month?\n",
        "  - The most recent month in the receipts table is March, 2021.\n",
        "  - However, due to missing barcode values in receipt table or non listed barcode values in the brand table, most of them have null values. Receipts scanned in Jan, 2021 partially contain brand name values.\n",
        "  \n",
        "- How does the ranking of the top 5 brands by receipts scanned for the recent month compare to the ranking for the previous month?\n",
        "  - Top 5 brands for Jan 2021 are as below (containing name values)\n",
        "    1. Tostitos\n",
        "    2. Swanson\n",
        "    3. Cracker Barrel Cheese\n",
        "    4. Prego\n",
        "    5. Diet Chris Cola\n"
      ],
      "metadata": {
        "id": "SjKzVmDrks09"
      }
    },
    {
      "cell_type": "code",
      "source": [
        "cur.execute(\"\"\"\n",
        "SELECT scan_ym,\n",
        "       COUNT(receipt_id)\n",
        "FROM receipts\n",
        "GROUP BY scan_ym\n",
        "ORDER BY scan_ym DESC\n",
        "\"\"\")\n",
        "\n",
        "rows = cur.fetchall()\n",
        "for row in rows:\n",
        "    print(row)"
      ],
      "metadata": {
        "colab": {
          "base_uri": "https://localhost:8080/"
        },
        "id": "RDfMoCSV_pdk",
        "outputId": "eb38b855-5a00-41ae-90e7-74bf8d9f223a"
      },
      "execution_count": 48,
      "outputs": [
        {
          "output_type": "stream",
          "name": "stdout",
          "text": [
            "('2021-03', 43)\n",
            "('2021-02', 500)\n",
            "('2021-01', 3043)\n",
            "('2020-11', 24)\n",
            "('2020-10', 6)\n"
          ]
        }
      ]
    },
    {
      "cell_type": "code",
      "source": [
        "cur.execute(\"\"\"\n",
        "SELECT\n",
        "       A.scan_ym,\n",
        "       B.name,\n",
        "       COUNT(A.receipt_id) AS scanned,\n",
        "       ROW_NUMBER() OVER (PARTITION BY scan_ym ORDER BY COUNT(DISTINCT A.receipt_id) DESC) AS RANK\n",
        "FROM RECEIPTS A LEFT OUTER JOIN BRANDS B\n",
        "ON A.barcode=B.barcode\n",
        "GROUP BY A.scan_ym, B.name\n",
        "ORDER BY scan_ym DESC\n",
        "\"\"\")\n",
        "\n",
        "rows = cur.fetchall()\n",
        "for row in rows:\n",
        "    print(row)"
      ],
      "metadata": {
        "colab": {
          "base_uri": "https://localhost:8080/"
        },
        "id": "V0XI9VqDAMam",
        "outputId": "d198a49b-75ef-4494-c0f1-deb4f060050e"
      },
      "execution_count": 49,
      "outputs": [
        {
          "output_type": "stream",
          "name": "stdout",
          "text": [
            "('2021-03', None, 43, 1)\n",
            "('2021-02', None, 500, 1)\n",
            "('2021-01', None, 2961, 1)\n",
            "('2021-01', 'Tostitos', 23, 2)\n",
            "('2021-01', 'Swanson', 11, 3)\n",
            "('2021-01', 'Cracker Barrel Cheese', 10, 4)\n",
            "('2021-01', 'Prego', 7, 5)\n",
            "('2021-01', 'Diet Chris Cola', 7, 6)\n",
            "('2021-01', 'Quaker', 3, 7)\n",
            "('2021-01', 'Kraft', 3, 8)\n",
            "('2021-01', 'Kettle Brand', 3, 9)\n",
            "('2021-01', 'Jell-O', 3, 10)\n",
            "('2021-01', 'V8', 4, 11)\n",
            "('2021-01', 'Rice A Roni', 3, 12)\n",
            "('2021-01', 'Pepperidge Farm', 5, 13)\n",
            "('2021-01', 'Cheetos', 3, 14)\n",
            "('2021-01', 'Sargento® Cheese', 1, 15)\n",
            "('2021-01', 'Pacific Foods', 1, 16)\n",
            "('2021-01', 'Mountain Dew', 1, 17)\n",
            "('2021-01', 'Grey Poupon', 1, 18)\n",
            "('2020-11', None, 24, 1)\n",
            "('2020-10', None, 6, 1)\n"
          ]
        }
      ]
    },
    {
      "cell_type": "markdown",
      "source": [
        "###**Business Questions - Spending and items purchased by rewardsReceiptStatus**\n",
        "- When considering average spend from receipts with 'rewardsReceiptStatus’ of ‘Accepted’ or ‘Rejected’, which is greater?\n",
        "  - First of all, there is no value named 'Accepted'.\n",
        "  - If comparing with 'Finished' status, average spending is 913 dollars which is approx. 33 times higher than 'Rejected' average spending of 27 dollars. (Assuming spending in 1 dollar unit.)\n",
        "- When considering total number of items purchased from receipts with 'rewardsReceiptStatus’ of ‘Accepted’ or ‘Rejected’, which is greater?\n",
        "  - If comparing with 'Finished' status, total number of items purchased is 491,828 which is approx. 1,927 times higher than 'Rejected' total number of items purchased of 255.\n"
      ],
      "metadata": {
        "id": "tZw7kVs71vhE"
      }
    },
    {
      "cell_type": "code",
      "source": [
        "cur.execute(\"\"\"\n",
        "\n",
        "    SELECT\n",
        "        rewardsReceiptStatus,\n",
        "        ROUND(AVG(CASE WHEN totalSpent IS NOT NULL THEN totalSpent END), 0) AS avg_totalSpent,\n",
        "        SUM(CASE WHEN purchasedItemCount IS NOT NULL THEN purchasedItemCount ELSE 0 END) AS total_purchasedItemCount\n",
        "    FROM\n",
        "        receipts\n",
        "    GROUP BY\n",
        "        rewardsReceiptStatus\n",
        "\"\"\")\n",
        "\n",
        "rows = cur.fetchall()\n",
        "for row in rows:\n",
        "    print(row)"
      ],
      "metadata": {
        "colab": {
          "base_uri": "https://localhost:8080/"
        },
        "id": "hp1mGSql8LGc",
        "outputId": "17cc0318-c880-4a8c-d7f1-4ea6d494dde1"
      },
      "execution_count": 50,
      "outputs": [
        {
          "output_type": "stream",
          "name": "stdout",
          "text": [
            "('FINISHED', 913.0, 491828)\n",
            "('FLAGGED', 2064.0, 70063)\n",
            "('PENDING', 27.0, 0)\n",
            "('REJECTED', 27.0, 255)\n",
            "('SUBMITTED', 0.0, 0)\n"
          ]
        }
      ]
    },
    {
      "cell_type": "code",
      "source": [
        "cur.execute(\"\"\"\n",
        "\n",
        "WITH StatusTotals AS (\n",
        "    SELECT\n",
        "        rewardsReceiptStatus,\n",
        "        ROUND(AVG(CASE WHEN totalSpent IS NOT NULL THEN totalSpent END), 0) AS avg_totalSpent,\n",
        "        SUM(CASE WHEN purchasedItemCount IS NOT NULL THEN purchasedItemCount ELSE 0 END) AS total_purchasedItemCount\n",
        "    FROM\n",
        "        receipts\n",
        "    GROUP BY\n",
        "        rewardsReceiptStatus\n",
        ")\n",
        "SELECT\n",
        "    st1.rewardsReceiptStatus AS status1,\n",
        "    st2.rewardsReceiptStatus AS status2,\n",
        "    ROUND((st1.avg_totalSpent - st2.avg_totalSpent) / st2.avg_totalSpent ) AS percent_change_avg_totalSpent,\n",
        "    ROUND((st1.total_purchasedItemCount - st2.total_purchasedItemCount) / st2.total_purchasedItemCount ) AS percent_change_total_purchasedItemCount\n",
        "FROM\n",
        "    StatusTotals st1\n",
        "JOIN\n",
        "    StatusTotals st2 ON st1.rewardsReceiptStatus < st2.rewardsReceiptStatus\n",
        "\n",
        "\"\"\")\n",
        "\n",
        "rows = cur.fetchall()\n",
        "for row in rows:\n",
        "    print(row)\n"
      ],
      "metadata": {
        "colab": {
          "base_uri": "https://localhost:8080/"
        },
        "id": "yPSyEcN44qr2",
        "outputId": "a56fee9a-fec3-425d-c7c3-e5f5c1767c75"
      },
      "execution_count": 51,
      "outputs": [
        {
          "output_type": "stream",
          "name": "stdout",
          "text": [
            "('FINISHED', 'FLAGGED', -1.0, 6.0)\n",
            "('FINISHED', 'PENDING', 33.0, None)\n",
            "('FINISHED', 'REJECTED', 33.0, 1927.0)\n",
            "('FINISHED', 'SUBMITTED', None, None)\n",
            "('FLAGGED', 'PENDING', 75.0, None)\n",
            "('FLAGGED', 'REJECTED', 75.0, 273.0)\n",
            "('FLAGGED', 'SUBMITTED', None, None)\n",
            "('PENDING', 'REJECTED', 0.0, -1.0)\n",
            "('PENDING', 'SUBMITTED', None, None)\n",
            "('REJECTED', 'SUBMITTED', None, None)\n"
          ]
        }
      ]
    },
    {
      "cell_type": "markdown",
      "source": [
        "### **Business Questions - Most recent users spending and transactions**\n",
        "- Which brand has the most spend among users who were created within the past 6 months?\n",
        "    - Tostitos has the most spending of 15,785 dollars among users who were created within the past 6 months.\n",
        "- Which brand has the most transactions among users who were created within the past 6 months?\n",
        "    - Tostitos has the most transactions of 23 among users who were created within the past 6 months.\n",
        "\n",
        "- Please refer that the create_ym has missing month/year values of  Oct/2020 and Sep/2020 which needs to be included in the past 6 months window. As a result, it only add up 4 months cumulative values."
      ],
      "metadata": {
        "id": "tW5f-NfI3_rj"
      }
    },
    {
      "cell_type": "code",
      "source": [
        "cur.execute(\"\"\"\n",
        "\n",
        "SELECT create_ym, count(*)\n",
        "FROM users\n",
        "group by create_ym\n",
        "order by create_ym desc;\n",
        "\n",
        "\"\"\")\n",
        "\n",
        "# Fetch and print the results of the SELECT query\n",
        "rows = cur.fetchall()\n",
        "for row in rows:\n",
        "    print(row)"
      ],
      "metadata": {
        "colab": {
          "base_uri": "https://localhost:8080/"
        },
        "id": "kR29AQhqYNxY",
        "outputId": "cda1d722-17cb-4f89-8d4c-5a3e86eb0756"
      },
      "execution_count": 52,
      "outputs": [
        {
          "output_type": "stream",
          "name": "stdout",
          "text": [
            "('2021-02', 30)\n",
            "('2021-01', 170)\n",
            "('2020-12', 1)\n",
            "('2020-11', 4)\n",
            "('2020-07', 1)\n",
            "('2020-01', 1)\n",
            "('2017-12', 1)\n",
            "('2017-09', 1)\n",
            "('2017-07', 1)\n",
            "('2015-04', 1)\n",
            "('2014-12', 1)\n"
          ]
        }
      ]
    },
    {
      "cell_type": "code",
      "source": [
        "cur.execute(\"\"\"\n",
        "WITH threshold AS (\n",
        "    SELECT strftime('%Y-%m', MAX(create_ym || '-01'), '-6 months') AS threshold\n",
        "    FROM users\n",
        ")\n",
        "SELECT A.name,\n",
        "       ROUND(SUM(B.totalSpent), 0) AS \"total_spend\",\n",
        "       COUNT(B.receipt_id) AS \"transaction\"\n",
        "FROM brands A\n",
        "INNER JOIN receipts B ON A.barcode = B.barcode\n",
        "INNER JOIN users C ON B.userId = C.user_id,\n",
        "threshold T\n",
        "WHERE A.name IS NOT NULL\n",
        "AND C.create_ym >= T.threshold\n",
        "GROUP BY A.name\n",
        "ORDER BY \"total_spend\" DESC;\n",
        "\"\"\")\n",
        "\n",
        "# Fetch and print the results of the SELECT query\n",
        "rows = cur.fetchall()\n",
        "for row in rows:\n",
        "    print(row)"
      ],
      "metadata": {
        "colab": {
          "base_uri": "https://localhost:8080/"
        },
        "id": "MdFwTw-xL1hY",
        "outputId": "d95172ab-23f4-4388-c994-1e7c08767ffb"
      },
      "execution_count": 53,
      "outputs": [
        {
          "output_type": "stream",
          "name": "stdout",
          "text": [
            "('Tostitos', 15785.0, 23)\n",
            "('Pepperidge Farm', 14163.0, 3)\n",
            "('V8', 9442.0, 2)\n",
            "('Prego', 9442.0, 2)\n",
            "('Diet Chris Cola', 9442.0, 2)\n",
            "('Swanson', 7180.0, 11)\n",
            "('Cracker Barrel Cheese', 4884.0, 2)\n",
            "('Jell-O', 4753.0, 2)\n",
            "('Cheetos', 4721.0, 1)\n",
            "('Kettle Brand', 2399.0, 3)\n",
            "('Grey Poupon', 743.0, 1)\n",
            "('Quaker', 32.0, 1)\n"
          ]
        }
      ]
    }
  ]
}