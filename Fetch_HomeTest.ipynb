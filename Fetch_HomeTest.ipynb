{
  "nbformat": 4,
  "nbformat_minor": 0,
  "metadata": {
    "colab": {
      "provenance": [],
      "collapsed_sections": [
        "dg_tuyfvDt7G",
        "vSKJH7T6XEEE",
        "5pQ-qM6-XOuz",
        "O53OLs65YGec",
        "I58Zde2RY9tn",
        "pnOmbChEZEbU",
        "i4SRiis6k5Fm",
        "4erqsYGqcsxT",
        "xYo0R0msgPUy",
        "ifBgRqNsh7N0",
        "C34fXHbuiVvz",
        "Bw_Ji6dOrJry",
        "wbyl397mtlv1",
        "shq7lixUukKO",
        "OaO5vVyHvTlT",
        "bg9szD6qwIvN",
        "xupe6LZ4v8La",
        "foARL6ebt7cv"
      ],
      "authorship_tag": "ABX9TyMtK9w6gmODS2lDvC4V3Eas",
      "include_colab_link": true
    },
    "kernelspec": {
      "name": "python3",
      "display_name": "Python 3"
    },
    "language_info": {
      "name": "python"
    }
  },
  "cells": [
    {
      "cell_type": "markdown",
      "metadata": {
        "id": "view-in-github",
        "colab_type": "text"
      },
      "source": [
        "<a href=\"https://colab.research.google.com/github/glee255/fetch/blob/main/Fetch_HomeTest.ipynb\" target=\"_parent\"><img src=\"https://colab.research.google.com/assets/colab-badge.svg\" alt=\"Open In Colab\"/></a>"
      ]
    },
    {
      "cell_type": "markdown",
      "source": [
        "### **Brands Table**\n",
        " - Read json file.\n",
        " - Read id values within the dictionaries."
      ],
      "metadata": {
        "id": "dg_tuyfvDt7G"
      }
    },
    {
      "cell_type": "code",
      "execution_count": 1,
      "metadata": {
        "id": "bHJ-_wlVRGAb"
      },
      "outputs": [],
      "source": [
        "# Read json file\n",
        "import pandas as pd\n",
        "import json\n",
        "\n",
        "with open('/content/brands.json', 'r') as file:\n",
        "    json_text = file.read()\n",
        "\n",
        "json_objects = json_text.strip().split('\\n')\n",
        "data = [json.loads(obj) for obj in json_objects]\n",
        "brands = pd.DataFrame(data)"
      ]
    },
    {
      "cell_type": "code",
      "source": [
        "# Read  id values\n",
        "def extract(d):\n",
        "    try:\n",
        "        if \"$oid\" in d:\n",
        "            return d[\"$oid\"]\n",
        "        elif \"$id\" in d and \"$oid\" in d[\"$id\"]:\n",
        "            return d[\"$id\"][\"$oid\"]\n",
        "        else:\n",
        "            return None\n",
        "    except (KeyError, TypeError):\n",
        "        return None\n",
        "\n",
        "brands['brand_id'] = brands['_id'].apply(lambda x: extract(x))\n",
        "brands['cpg_id'] = brands['cpg'].apply(lambda x: extract(x))"
      ],
      "metadata": {
        "id": "hy8kuNrgYsmz"
      },
      "execution_count": 2,
      "outputs": []
    },
    {
      "cell_type": "code",
      "source": [
        "# 1167 brands in total\n",
        "brands.shape"
      ],
      "metadata": {
        "colab": {
          "base_uri": "https://localhost:8080/"
        },
        "id": "cWJyuetjBDct",
        "outputId": "e99707bc-fa9d-44c8-fc8b-7843da5a8c86"
      },
      "execution_count": 3,
      "outputs": [
        {
          "output_type": "execute_result",
          "data": {
            "text/plain": [
              "(1167, 10)"
            ]
          },
          "metadata": {},
          "execution_count": 3
        }
      ]
    },
    {
      "cell_type": "markdown",
      "source": [
        "### Missing values\n",
        " - There seems to be too many missing values in category, categoryCode, topBrand, brandCode.\n",
        " - Removing null values may remove the entire data set. Replacing null values does not make sense for this case."
      ],
      "metadata": {
        "id": "vSKJH7T6XEEE"
      }
    },
    {
      "cell_type": "code",
      "source": [
        "brands.isna().sum()"
      ],
      "metadata": {
        "colab": {
          "base_uri": "https://localhost:8080/"
        },
        "id": "KHs-vtQCA3M3",
        "outputId": "4546bbcc-a23b-49e1-9a70-bc5706715f20"
      },
      "execution_count": 4,
      "outputs": [
        {
          "output_type": "execute_result",
          "data": {
            "text/plain": [
              "_id               0\n",
              "barcode           0\n",
              "category        155\n",
              "categoryCode    650\n",
              "cpg               0\n",
              "name              0\n",
              "topBrand        612\n",
              "brandCode       234\n",
              "brand_id          0\n",
              "cpg_id            0\n",
              "dtype: int64"
            ]
          },
          "metadata": {},
          "execution_count": 4
        }
      ]
    },
    {
      "cell_type": "markdown",
      "source": [
        "### Misleading column name\n",
        " - categoryCode seems to have text values and not categorical values.\n",
        " - Also it almost seems same as the category values."
      ],
      "metadata": {
        "id": "5pQ-qM6-XOuz"
      }
    },
    {
      "cell_type": "code",
      "source": [
        "brands['categoryCode'].value_counts()"
      ],
      "metadata": {
        "colab": {
          "base_uri": "https://localhost:8080/"
        },
        "id": "cVwmxxeyBIVZ",
        "outputId": "ab7e63dc-3ed2-40de-8dfa-325c6dcf59d9"
      },
      "execution_count": 5,
      "outputs": [
        {
          "output_type": "execute_result",
          "data": {
            "text/plain": [
              "BAKING                           359\n",
              "CANDY_AND_SWEETS                  71\n",
              "BEER_WINE_SPIRITS                 31\n",
              "HEALTHY_AND_WELLNESS              14\n",
              "GROCERY                           11\n",
              "BABY                               7\n",
              "CLEANING_AND_HOME_IMPROVEMENT      6\n",
              "BREAD_AND_BAKERY                   5\n",
              "DAIRY_AND_REFRIGERATED             5\n",
              "PERSONAL_CARE                      4\n",
              "BEVERAGES                          1\n",
              "OUTDOOR                            1\n",
              "MAGAZINES                          1\n",
              "FROZEN                             1\n",
              "Name: categoryCode, dtype: int64"
            ]
          },
          "metadata": {},
          "execution_count": 5
        }
      ]
    },
    {
      "cell_type": "code",
      "source": [
        "brands['category'].value_counts()"
      ],
      "metadata": {
        "colab": {
          "base_uri": "https://localhost:8080/"
        },
        "id": "dKChcM1EBUCd",
        "outputId": "556a5772-7ba1-4fde-eb20-2a41cdacd269"
      },
      "execution_count": 6,
      "outputs": [
        {
          "output_type": "execute_result",
          "data": {
            "text/plain": [
              "Baking                         369\n",
              "Beer Wine Spirits               90\n",
              "Snacks                          75\n",
              "Candy & Sweets                  71\n",
              "Beverages                       63\n",
              "Magazines                       44\n",
              "Health & Wellness               44\n",
              "Breakfast & Cereal              40\n",
              "Grocery                         39\n",
              "Dairy                           33\n",
              "Condiments & Sauces             27\n",
              "Frozen                          24\n",
              "Personal Care                   20\n",
              "Baby                            18\n",
              "Canned Goods & Soups            12\n",
              "Beauty                           9\n",
              "Cleaning & Home Improvement      6\n",
              "Deli                             6\n",
              "Beauty & Personal Care           6\n",
              "Household                        5\n",
              "Bread & Bakery                   5\n",
              "Dairy & Refrigerated             5\n",
              "Outdoor                          1\n",
              "Name: category, dtype: int64"
            ]
          },
          "metadata": {},
          "execution_count": 6
        }
      ]
    },
    {
      "cell_type": "markdown",
      "source": [
        "### Inconsistent values\n",
        " - brandCode contains inconsistent values such as numeric, text and numeric and text combined."
      ],
      "metadata": {
        "id": "O53OLs65YGec"
      }
    },
    {
      "cell_type": "code",
      "source": [
        "brands['brandCode'].value_counts()"
      ],
      "metadata": {
        "colab": {
          "base_uri": "https://localhost:8080/"
        },
        "id": "ty4DrmsMEXtc",
        "outputId": "0eaedbcc-e610-4df4-de1d-34cef5c30f76"
      },
      "execution_count": 7,
      "outputs": [
        {
          "output_type": "execute_result",
          "data": {
            "text/plain": [
              "                                 35\n",
              "GOODNITES                         2\n",
              "HUGGIES                           2\n",
              "ROYAL DANSK                       1\n",
              "SOL                               1\n",
              "                                 ..\n",
              "TEST BRANDCODE @1599159969028     1\n",
              "TEST BRANDCODE @1597350074404     1\n",
              "SEDAL                             1\n",
              "RED ROCK DELI                     1\n",
              "TEST BRANDCODE @1613158231644     1\n",
              "Name: brandCode, Length: 897, dtype: int64"
            ]
          },
          "metadata": {},
          "execution_count": 7
        }
      ]
    },
    {
      "cell_type": "markdown",
      "source": [
        "### Drop irrelevant columns\n",
        " - Remove '_id', 'cpg', 'categoryCode columns.\n",
        " - 'cpg' value needs to be checked."
      ],
      "metadata": {
        "id": "I58Zde2RY9tn"
      }
    },
    {
      "cell_type": "code",
      "source": [
        "# Remove '_id','cpg','categoryCode. 'cpg' value needs to be checked.\n",
        "colsToDrop = ['_id','categoryCode','cpg']\n",
        "brands.drop(colsToDrop, axis=1, inplace=True)"
      ],
      "metadata": {
        "id": "4tExAAx4B9xM"
      },
      "execution_count": 8,
      "outputs": []
    },
    {
      "cell_type": "markdown",
      "source": [
        "### Check duplicates\n",
        "- No duplicates"
      ],
      "metadata": {
        "id": "pnOmbChEZEbU"
      }
    },
    {
      "cell_type": "code",
      "source": [
        "# No duplicates\n",
        "brands.duplicated().any()"
      ],
      "metadata": {
        "colab": {
          "base_uri": "https://localhost:8080/"
        },
        "id": "rcYphQNXBief",
        "outputId": "c4622b89-1e37-463e-f2ac-a3a430d8f0c6"
      },
      "execution_count": 9,
      "outputs": [
        {
          "output_type": "execute_result",
          "data": {
            "text/plain": [
              "False"
            ]
          },
          "metadata": {},
          "execution_count": 9
        }
      ]
    },
    {
      "cell_type": "code",
      "source": [
        "# Check the first five rows\n",
        "brands.head()"
      ],
      "metadata": {
        "id": "c6P2f_QqD69T",
        "colab": {
          "base_uri": "https://localhost:8080/",
          "height": 0
        },
        "outputId": "7e80372b-1741-423f-9b30-0f4d9208f88f"
      },
      "execution_count": 10,
      "outputs": [
        {
          "output_type": "execute_result",
          "data": {
            "text/plain": [
              "        barcode        category                       name topBrand  \\\n",
              "0  511111019862          Baking  test brand @1612366101024    False   \n",
              "1  511111519928       Beverages                  Starbucks    False   \n",
              "2  511111819905          Baking  test brand @1612366146176    False   \n",
              "3  511111519874          Baking  test brand @1612366146051    False   \n",
              "4  511111319917  Candy & Sweets  test brand @1612366146827    False   \n",
              "\n",
              "                       brandCode                  brand_id  \\\n",
              "0                            NaN  601ac115be37ce2ead437551   \n",
              "1                      STARBUCKS  601c5460be37ce2ead43755f   \n",
              "2  TEST BRANDCODE @1612366146176  601ac142be37ce2ead43755d   \n",
              "3  TEST BRANDCODE @1612366146051  601ac142be37ce2ead43755a   \n",
              "4  TEST BRANDCODE @1612366146827  601ac142be37ce2ead43755e   \n",
              "\n",
              "                     cpg_id  \n",
              "0  601ac114be37ce2ead437550  \n",
              "1  5332f5fbe4b03c9a25efd0ba  \n",
              "2  601ac142be37ce2ead437559  \n",
              "3  601ac142be37ce2ead437559  \n",
              "4  5332fa12e4b03c9a25efd1e7  "
            ],
            "text/html": [
              "\n",
              "  <div id=\"df-ff95b3d0-0012-4495-9d36-127d21af89f3\" class=\"colab-df-container\">\n",
              "    <div>\n",
              "<style scoped>\n",
              "    .dataframe tbody tr th:only-of-type {\n",
              "        vertical-align: middle;\n",
              "    }\n",
              "\n",
              "    .dataframe tbody tr th {\n",
              "        vertical-align: top;\n",
              "    }\n",
              "\n",
              "    .dataframe thead th {\n",
              "        text-align: right;\n",
              "    }\n",
              "</style>\n",
              "<table border=\"1\" class=\"dataframe\">\n",
              "  <thead>\n",
              "    <tr style=\"text-align: right;\">\n",
              "      <th></th>\n",
              "      <th>barcode</th>\n",
              "      <th>category</th>\n",
              "      <th>name</th>\n",
              "      <th>topBrand</th>\n",
              "      <th>brandCode</th>\n",
              "      <th>brand_id</th>\n",
              "      <th>cpg_id</th>\n",
              "    </tr>\n",
              "  </thead>\n",
              "  <tbody>\n",
              "    <tr>\n",
              "      <th>0</th>\n",
              "      <td>511111019862</td>\n",
              "      <td>Baking</td>\n",
              "      <td>test brand @1612366101024</td>\n",
              "      <td>False</td>\n",
              "      <td>NaN</td>\n",
              "      <td>601ac115be37ce2ead437551</td>\n",
              "      <td>601ac114be37ce2ead437550</td>\n",
              "    </tr>\n",
              "    <tr>\n",
              "      <th>1</th>\n",
              "      <td>511111519928</td>\n",
              "      <td>Beverages</td>\n",
              "      <td>Starbucks</td>\n",
              "      <td>False</td>\n",
              "      <td>STARBUCKS</td>\n",
              "      <td>601c5460be37ce2ead43755f</td>\n",
              "      <td>5332f5fbe4b03c9a25efd0ba</td>\n",
              "    </tr>\n",
              "    <tr>\n",
              "      <th>2</th>\n",
              "      <td>511111819905</td>\n",
              "      <td>Baking</td>\n",
              "      <td>test brand @1612366146176</td>\n",
              "      <td>False</td>\n",
              "      <td>TEST BRANDCODE @1612366146176</td>\n",
              "      <td>601ac142be37ce2ead43755d</td>\n",
              "      <td>601ac142be37ce2ead437559</td>\n",
              "    </tr>\n",
              "    <tr>\n",
              "      <th>3</th>\n",
              "      <td>511111519874</td>\n",
              "      <td>Baking</td>\n",
              "      <td>test brand @1612366146051</td>\n",
              "      <td>False</td>\n",
              "      <td>TEST BRANDCODE @1612366146051</td>\n",
              "      <td>601ac142be37ce2ead43755a</td>\n",
              "      <td>601ac142be37ce2ead437559</td>\n",
              "    </tr>\n",
              "    <tr>\n",
              "      <th>4</th>\n",
              "      <td>511111319917</td>\n",
              "      <td>Candy &amp; Sweets</td>\n",
              "      <td>test brand @1612366146827</td>\n",
              "      <td>False</td>\n",
              "      <td>TEST BRANDCODE @1612366146827</td>\n",
              "      <td>601ac142be37ce2ead43755e</td>\n",
              "      <td>5332fa12e4b03c9a25efd1e7</td>\n",
              "    </tr>\n",
              "  </tbody>\n",
              "</table>\n",
              "</div>\n",
              "    <div class=\"colab-df-buttons\">\n",
              "\n",
              "  <div class=\"colab-df-container\">\n",
              "    <button class=\"colab-df-convert\" onclick=\"convertToInteractive('df-ff95b3d0-0012-4495-9d36-127d21af89f3')\"\n",
              "            title=\"Convert this dataframe to an interactive table.\"\n",
              "            style=\"display:none;\">\n",
              "\n",
              "  <svg xmlns=\"http://www.w3.org/2000/svg\" height=\"24px\" viewBox=\"0 -960 960 960\">\n",
              "    <path d=\"M120-120v-720h720v720H120Zm60-500h600v-160H180v160Zm220 220h160v-160H400v160Zm0 220h160v-160H400v160ZM180-400h160v-160H180v160Zm440 0h160v-160H620v160ZM180-180h160v-160H180v160Zm440 0h160v-160H620v160Z\"/>\n",
              "  </svg>\n",
              "    </button>\n",
              "\n",
              "  <style>\n",
              "    .colab-df-container {\n",
              "      display:flex;\n",
              "      gap: 12px;\n",
              "    }\n",
              "\n",
              "    .colab-df-convert {\n",
              "      background-color: #E8F0FE;\n",
              "      border: none;\n",
              "      border-radius: 50%;\n",
              "      cursor: pointer;\n",
              "      display: none;\n",
              "      fill: #1967D2;\n",
              "      height: 32px;\n",
              "      padding: 0 0 0 0;\n",
              "      width: 32px;\n",
              "    }\n",
              "\n",
              "    .colab-df-convert:hover {\n",
              "      background-color: #E2EBFA;\n",
              "      box-shadow: 0px 1px 2px rgba(60, 64, 67, 0.3), 0px 1px 3px 1px rgba(60, 64, 67, 0.15);\n",
              "      fill: #174EA6;\n",
              "    }\n",
              "\n",
              "    .colab-df-buttons div {\n",
              "      margin-bottom: 4px;\n",
              "    }\n",
              "\n",
              "    [theme=dark] .colab-df-convert {\n",
              "      background-color: #3B4455;\n",
              "      fill: #D2E3FC;\n",
              "    }\n",
              "\n",
              "    [theme=dark] .colab-df-convert:hover {\n",
              "      background-color: #434B5C;\n",
              "      box-shadow: 0px 1px 3px 1px rgba(0, 0, 0, 0.15);\n",
              "      filter: drop-shadow(0px 1px 2px rgba(0, 0, 0, 0.3));\n",
              "      fill: #FFFFFF;\n",
              "    }\n",
              "  </style>\n",
              "\n",
              "    <script>\n",
              "      const buttonEl =\n",
              "        document.querySelector('#df-ff95b3d0-0012-4495-9d36-127d21af89f3 button.colab-df-convert');\n",
              "      buttonEl.style.display =\n",
              "        google.colab.kernel.accessAllowed ? 'block' : 'none';\n",
              "\n",
              "      async function convertToInteractive(key) {\n",
              "        const element = document.querySelector('#df-ff95b3d0-0012-4495-9d36-127d21af89f3');\n",
              "        const dataTable =\n",
              "          await google.colab.kernel.invokeFunction('convertToInteractive',\n",
              "                                                    [key], {});\n",
              "        if (!dataTable) return;\n",
              "\n",
              "        const docLinkHtml = 'Like what you see? Visit the ' +\n",
              "          '<a target=\"_blank\" href=https://colab.research.google.com/notebooks/data_table.ipynb>data table notebook</a>'\n",
              "          + ' to learn more about interactive tables.';\n",
              "        element.innerHTML = '';\n",
              "        dataTable['output_type'] = 'display_data';\n",
              "        await google.colab.output.renderOutput(dataTable, element);\n",
              "        const docLink = document.createElement('div');\n",
              "        docLink.innerHTML = docLinkHtml;\n",
              "        element.appendChild(docLink);\n",
              "      }\n",
              "    </script>\n",
              "  </div>\n",
              "\n",
              "\n",
              "<div id=\"df-e7869e96-e7b7-4253-8860-3bec4a96a1eb\">\n",
              "  <button class=\"colab-df-quickchart\" onclick=\"quickchart('df-e7869e96-e7b7-4253-8860-3bec4a96a1eb')\"\n",
              "            title=\"Suggest charts\"\n",
              "            style=\"display:none;\">\n",
              "\n",
              "<svg xmlns=\"http://www.w3.org/2000/svg\" height=\"24px\"viewBox=\"0 0 24 24\"\n",
              "     width=\"24px\">\n",
              "    <g>\n",
              "        <path d=\"M19 3H5c-1.1 0-2 .9-2 2v14c0 1.1.9 2 2 2h14c1.1 0 2-.9 2-2V5c0-1.1-.9-2-2-2zM9 17H7v-7h2v7zm4 0h-2V7h2v10zm4 0h-2v-4h2v4z\"/>\n",
              "    </g>\n",
              "</svg>\n",
              "  </button>\n",
              "\n",
              "<style>\n",
              "  .colab-df-quickchart {\n",
              "      --bg-color: #E8F0FE;\n",
              "      --fill-color: #1967D2;\n",
              "      --hover-bg-color: #E2EBFA;\n",
              "      --hover-fill-color: #174EA6;\n",
              "      --disabled-fill-color: #AAA;\n",
              "      --disabled-bg-color: #DDD;\n",
              "  }\n",
              "\n",
              "  [theme=dark] .colab-df-quickchart {\n",
              "      --bg-color: #3B4455;\n",
              "      --fill-color: #D2E3FC;\n",
              "      --hover-bg-color: #434B5C;\n",
              "      --hover-fill-color: #FFFFFF;\n",
              "      --disabled-bg-color: #3B4455;\n",
              "      --disabled-fill-color: #666;\n",
              "  }\n",
              "\n",
              "  .colab-df-quickchart {\n",
              "    background-color: var(--bg-color);\n",
              "    border: none;\n",
              "    border-radius: 50%;\n",
              "    cursor: pointer;\n",
              "    display: none;\n",
              "    fill: var(--fill-color);\n",
              "    height: 32px;\n",
              "    padding: 0;\n",
              "    width: 32px;\n",
              "  }\n",
              "\n",
              "  .colab-df-quickchart:hover {\n",
              "    background-color: var(--hover-bg-color);\n",
              "    box-shadow: 0 1px 2px rgba(60, 64, 67, 0.3), 0 1px 3px 1px rgba(60, 64, 67, 0.15);\n",
              "    fill: var(--button-hover-fill-color);\n",
              "  }\n",
              "\n",
              "  .colab-df-quickchart-complete:disabled,\n",
              "  .colab-df-quickchart-complete:disabled:hover {\n",
              "    background-color: var(--disabled-bg-color);\n",
              "    fill: var(--disabled-fill-color);\n",
              "    box-shadow: none;\n",
              "  }\n",
              "\n",
              "  .colab-df-spinner {\n",
              "    border: 2px solid var(--fill-color);\n",
              "    border-color: transparent;\n",
              "    border-bottom-color: var(--fill-color);\n",
              "    animation:\n",
              "      spin 1s steps(1) infinite;\n",
              "  }\n",
              "\n",
              "  @keyframes spin {\n",
              "    0% {\n",
              "      border-color: transparent;\n",
              "      border-bottom-color: var(--fill-color);\n",
              "      border-left-color: var(--fill-color);\n",
              "    }\n",
              "    20% {\n",
              "      border-color: transparent;\n",
              "      border-left-color: var(--fill-color);\n",
              "      border-top-color: var(--fill-color);\n",
              "    }\n",
              "    30% {\n",
              "      border-color: transparent;\n",
              "      border-left-color: var(--fill-color);\n",
              "      border-top-color: var(--fill-color);\n",
              "      border-right-color: var(--fill-color);\n",
              "    }\n",
              "    40% {\n",
              "      border-color: transparent;\n",
              "      border-right-color: var(--fill-color);\n",
              "      border-top-color: var(--fill-color);\n",
              "    }\n",
              "    60% {\n",
              "      border-color: transparent;\n",
              "      border-right-color: var(--fill-color);\n",
              "    }\n",
              "    80% {\n",
              "      border-color: transparent;\n",
              "      border-right-color: var(--fill-color);\n",
              "      border-bottom-color: var(--fill-color);\n",
              "    }\n",
              "    90% {\n",
              "      border-color: transparent;\n",
              "      border-bottom-color: var(--fill-color);\n",
              "    }\n",
              "  }\n",
              "</style>\n",
              "\n",
              "  <script>\n",
              "    async function quickchart(key) {\n",
              "      const quickchartButtonEl =\n",
              "        document.querySelector('#' + key + ' button');\n",
              "      quickchartButtonEl.disabled = true;  // To prevent multiple clicks.\n",
              "      quickchartButtonEl.classList.add('colab-df-spinner');\n",
              "      try {\n",
              "        const charts = await google.colab.kernel.invokeFunction(\n",
              "            'suggestCharts', [key], {});\n",
              "      } catch (error) {\n",
              "        console.error('Error during call to suggestCharts:', error);\n",
              "      }\n",
              "      quickchartButtonEl.classList.remove('colab-df-spinner');\n",
              "      quickchartButtonEl.classList.add('colab-df-quickchart-complete');\n",
              "    }\n",
              "    (() => {\n",
              "      let quickchartButtonEl =\n",
              "        document.querySelector('#df-e7869e96-e7b7-4253-8860-3bec4a96a1eb button');\n",
              "      quickchartButtonEl.style.display =\n",
              "        google.colab.kernel.accessAllowed ? 'block' : 'none';\n",
              "    })();\n",
              "  </script>\n",
              "</div>\n",
              "\n",
              "    </div>\n",
              "  </div>\n"
            ],
            "application/vnd.google.colaboratory.intrinsic+json": {
              "type": "dataframe",
              "variable_name": "brands",
              "summary": "{\n  \"name\": \"brands\",\n  \"rows\": 1167,\n  \"fields\": [\n    {\n      \"column\": \"barcode\",\n      \"properties\": {\n        \"dtype\": \"string\",\n        \"num_unique_values\": 1160,\n        \"samples\": [\n          \"511111203049\",\n          \"511111716648\",\n          \"511111801245\"\n        ],\n        \"semantic_type\": \"\",\n        \"description\": \"\"\n      }\n    },\n    {\n      \"column\": \"category\",\n      \"properties\": {\n        \"dtype\": \"category\",\n        \"num_unique_values\": 23,\n        \"samples\": [\n          \"Personal Care\",\n          \"Beauty\",\n          \"Baking\"\n        ],\n        \"semantic_type\": \"\",\n        \"description\": \"\"\n      }\n    },\n    {\n      \"column\": \"name\",\n      \"properties\": {\n        \"dtype\": \"string\",\n        \"num_unique_values\": 1156,\n        \"samples\": [\n          \"Bayer\\u00ae ASPRIN TAB/ CAPS/ CHEWS\",\n          \"Colorado Native\",\n          \"Chester's\"\n        ],\n        \"semantic_type\": \"\",\n        \"description\": \"\"\n      }\n    },\n    {\n      \"column\": \"topBrand\",\n      \"properties\": {\n        \"dtype\": \"category\",\n        \"num_unique_values\": 2,\n        \"samples\": [\n          true,\n          false\n        ],\n        \"semantic_type\": \"\",\n        \"description\": \"\"\n      }\n    },\n    {\n      \"column\": \"brandCode\",\n      \"properties\": {\n        \"dtype\": \"string\",\n        \"num_unique_values\": 897,\n        \"samples\": [\n          \"AMPTEST\",\n          \"NUT HARVEST\"\n        ],\n        \"semantic_type\": \"\",\n        \"description\": \"\"\n      }\n    },\n    {\n      \"column\": \"brand_id\",\n      \"properties\": {\n        \"dtype\": \"string\",\n        \"num_unique_values\": 1167,\n        \"samples\": [\n          \"53501d29b9237fd7718f9e16\",\n          \"5332fa08e4b03c9a25efd1d9\"\n        ],\n        \"semantic_type\": \"\",\n        \"description\": \"\"\n      }\n    },\n    {\n      \"column\": \"cpg_id\",\n      \"properties\": {\n        \"dtype\": \"category\",\n        \"num_unique_values\": 196,\n        \"samples\": [\n          \"5f4a64e7be37ce17d23b3178\",\n          \"5ff74500be37ce1e961f3276\"\n        ],\n        \"semantic_type\": \"\",\n        \"description\": \"\"\n      }\n    }\n  ]\n}"
            }
          },
          "metadata": {},
          "execution_count": 10
        }
      ]
    },
    {
      "cell_type": "markdown",
      "source": [
        "### Sqlite3 table conversion"
      ],
      "metadata": {
        "id": "i4SRiis6k5Fm"
      }
    },
    {
      "cell_type": "code",
      "source": [
        "file_name = 'brands.xlsx'\n",
        "brands.to_excel(file_name, index=False)"
      ],
      "metadata": {
        "id": "VopC7AEXEoCa"
      },
      "execution_count": 11,
      "outputs": []
    },
    {
      "cell_type": "code",
      "source": [
        "for column in brands.select_dtypes(include=['float64']).columns:\n",
        "    brands[column] = brands[column].fillna(0).astype(int)\n",
        "\n",
        "for column in brands.select_dtypes(include=['object']).columns:\n",
        "    brands[column] = brands[column].astype(str)"
      ],
      "metadata": {
        "id": "Xz7UWYwSvaO1"
      },
      "execution_count": 12,
      "outputs": []
    },
    {
      "cell_type": "code",
      "source": [
        "import sqlite3\n",
        "\n",
        "conn = sqlite3.connect('fetch.db')\n",
        "cur = conn.cursor()\n",
        "\n",
        "brands.to_sql('brands', conn, if_exists='replace', index=False)"
      ],
      "metadata": {
        "colab": {
          "base_uri": "https://localhost:8080/"
        },
        "id": "V1847yZhy11O",
        "outputId": "8ef1656d-0d02-4492-8e24-faf747fc3fe1"
      },
      "execution_count": 13,
      "outputs": [
        {
          "output_type": "execute_result",
          "data": {
            "text/plain": [
              "1167"
            ]
          },
          "metadata": {},
          "execution_count": 13
        }
      ]
    },
    {
      "cell_type": "markdown",
      "source": [
        "### **Receipts Table**\n",
        " - Read json file.\n",
        " - Retrieve the dictionary values from rewardsReceiptItemList column. Twelve dictionaries contained.\n",
        " - Retrieve id values within the dictionary.\n",
        " - Retrieve and convert dates from date columns"
      ],
      "metadata": {
        "id": "4erqsYGqcsxT"
      }
    },
    {
      "cell_type": "code",
      "source": [
        "# Read json file\n",
        "with open('/content/receipts.json', 'r') as file:\n",
        "    json_text = file.read()\n",
        "\n",
        "json_objects = json_text.strip().split('\\n')\n",
        "data1 = [json.loads(obj) for obj in json_objects]\n",
        "receipts = pd.DataFrame(data1)"
      ],
      "metadata": {
        "id": "zXEJCrrgTWhK"
      },
      "execution_count": 14,
      "outputs": []
    },
    {
      "cell_type": "code",
      "source": [
        "# Retrieve the dictionaries from rewardsReceiptItemList column. Too many dictionaries contained.\n",
        "def extract1(list_of_dicts, key):\n",
        "    if not isinstance(list_of_dicts, list):\n",
        "        return ''\n",
        "    values = [str(d.get(key)) for d in list_of_dicts if d.get(key) is not None]\n",
        "    return ', '.join(values)\n",
        "\n",
        "receipts['barcodes'] = receipts['rewardsReceiptItemList'].apply(lambda x: extract1(x, 'barcode'))\n",
        "receipts['description'] = receipts['rewardsReceiptItemList'].apply(lambda x: extract1(x, 'description'))\n",
        "receipts['finalPrice'] = receipts['rewardsReceiptItemList'].apply(lambda x: extract1(x, 'finalPrice'))\n",
        "receipts['itemPrice'] = receipts['rewardsReceiptItemList'].apply(lambda x: extract1(x, 'itemPrice'))\n",
        "receipts['needsFetchReview'] = receipts['rewardsReceiptItemList'].apply(lambda x: extract1(x, 'needsFetchReview'))\n",
        "receipts['partnerItemId'] = receipts['rewardsReceiptItemList'].apply(lambda x: extract1(x, 'partnerItemId'))\n",
        "receipts['preventTargetGapPoints'] = receipts['rewardsReceiptItemList'].apply(lambda x: extract1(x, 'preventTargetGapPoints'))\n",
        "receipts['quantityPurchased'] = receipts['rewardsReceiptItemList'].apply(lambda x: extract1(x, 'quantityPurchased'))\n",
        "receipts['userFlaggedBarcode'] = receipts['rewardsReceiptItemList'].apply(lambda x: extract1(x, 'userFlaggedBarcode'))\n",
        "receipts['userFlaggedNewItem'] = receipts['rewardsReceiptItemList'].apply(lambda x: extract1(x, 'userFlaggedNewItem'))\n",
        "receipts['userFlaggedPrice'] = receipts['rewardsReceiptItemList'].apply(lambda x: extract1(x, 'userFlaggedPrice'))\n",
        "receipts['userFlaggedQuantity'] = receipts['rewardsReceiptItemList'].apply(lambda x: extract1(x, 'userFlaggedQuantity'))\n",
        "receipts['receipt_id'] = receipts['_id'].apply(lambda x: x.get('$oid') if isinstance(x, dict) else None)"
      ],
      "metadata": {
        "id": "hcz4UqZohzqh"
      },
      "execution_count": 15,
      "outputs": []
    },
    {
      "cell_type": "code",
      "source": [
        "# Retrieve dates from date columns\n",
        "def extract2(d):\n",
        "    try:\n",
        "        oid_value = d['$date']\n",
        "        return oid_value\n",
        "    except (KeyError, TypeError):\n",
        "        return None\n",
        "\n",
        "receipts['create_d'] = receipts['createDate'].apply(lambda x: extract2(x))\n",
        "receipts['scan_d'] = receipts['dateScanned'].apply(lambda x: extract2(x))\n",
        "receipts['finish_d'] = receipts['finishedDate'].apply(lambda x: extract2(x))\n",
        "receipts['modify_d'] = receipts['modifyDate'].apply(lambda x: extract2(x))\n",
        "receipts['point_d'] = receipts['pointsAwardedDate'].apply(lambda x: extract2(x))\n",
        "receipts['purchase_d'] = receipts['purchaseDate'].apply(lambda x: extract2(x))"
      ],
      "metadata": {
        "id": "0IyF5nR3cm_V"
      },
      "execution_count": 16,
      "outputs": []
    },
    {
      "cell_type": "code",
      "source": [
        "# Convert data to year and month\n",
        "from datetime import datetime\n",
        "receipts['create_ym'] = receipts['create_d'].apply(lambda x: datetime.fromtimestamp(x/1000).strftime('%Y-%m') if pd.notnull(x) else None)\n",
        "receipts['scan_ym'] = receipts['scan_d'].apply(lambda x: datetime.fromtimestamp(x/1000).strftime('%Y-%m') if pd.notnull(x) else None)\n",
        "receipts['finish_ym'] = receipts['finish_d'].apply(lambda x: datetime.fromtimestamp(x/1000).strftime('%Y-%m') if pd.notnull(x) else None)\n",
        "receipts['modify_ym'] = receipts['modify_d'].apply(lambda x: datetime.fromtimestamp(x/1000).strftime('%Y-%m') if pd.notnull(x) else None)\n",
        "receipts['point_ym'] = receipts['point_d'].apply(lambda x: datetime.fromtimestamp(x/1000).strftime('%Y-%m') if pd.notnull(x) else None)\n",
        "receipts['purchase_ym'] = receipts['purchase_d'].apply(lambda x: datetime.fromtimestamp(x/1000).strftime('%Y-%m') if pd.notnull(x) else None)"
      ],
      "metadata": {
        "id": "LtYppNkhjNZ5"
      },
      "execution_count": 17,
      "outputs": []
    },
    {
      "cell_type": "markdown",
      "source": [
        "### Drop irrelevant columns\n",
        "\n",
        "- Remove json formatted columns and columns that were used for retrieving and conversion.\n",
        "\n"
      ],
      "metadata": {
        "id": "xYo0R0msgPUy"
      }
    },
    {
      "cell_type": "code",
      "source": [
        "# Remove '_id','createDate','dateScanned','finishedDate','modifyDate','pointsAwardedDate','purchaseDate'\n",
        "colsToDrop = ['rewardsReceiptItemList','_id','create_d','scan_d','finish_d','modify_d','point_d','purchase_d','createDate','dateScanned','finishedDate','modifyDate','pointsAwardedDate','purchaseDate']\n",
        "receipts.drop(colsToDrop, axis=1, inplace=True)"
      ],
      "metadata": {
        "id": "N61PPKiHFBeJ"
      },
      "execution_count": 18,
      "outputs": []
    },
    {
      "cell_type": "markdown",
      "source": [
        "### Missing values\n",
        " - Customers may not earn bonus points. Null value reasonable.\n",
        " - But other than the bonus points related columns, other needs to be checked.\n",
        " - Barcodes column contatins empty string that is not recognized as na value."
      ],
      "metadata": {
        "id": "ifBgRqNsh7N0"
      }
    },
    {
      "cell_type": "code",
      "source": [
        "receipts.isna().sum()"
      ],
      "metadata": {
        "colab": {
          "base_uri": "https://localhost:8080/"
        },
        "id": "V6O6lZelhMnH",
        "outputId": "8f7ab149-4363-4060-d911-5350e26022cb"
      },
      "execution_count": 19,
      "outputs": [
        {
          "output_type": "execute_result",
          "data": {
            "text/plain": [
              "bonusPointsEarned          575\n",
              "bonusPointsEarnedReason    575\n",
              "pointsEarned               510\n",
              "purchasedItemCount         484\n",
              "rewardsReceiptStatus         0\n",
              "totalSpent                 435\n",
              "userId                       0\n",
              "barcodes                     0\n",
              "description                  0\n",
              "finalPrice                   0\n",
              "itemPrice                    0\n",
              "needsFetchReview             0\n",
              "partnerItemId                0\n",
              "preventTargetGapPoints       0\n",
              "quantityPurchased            0\n",
              "userFlaggedBarcode           0\n",
              "userFlaggedNewItem           0\n",
              "userFlaggedPrice             0\n",
              "userFlaggedQuantity          0\n",
              "receipt_id                   0\n",
              "create_ym                    0\n",
              "scan_ym                      0\n",
              "finish_ym                  551\n",
              "modify_ym                    0\n",
              "point_ym                   582\n",
              "purchase_ym                448\n",
              "dtype: int64"
            ]
          },
          "metadata": {},
          "execution_count": 19
        }
      ]
    },
    {
      "cell_type": "code",
      "source": [
        "# empty string not recognized as na value\n",
        "receipts['barcodes'].head()"
      ],
      "metadata": {
        "colab": {
          "base_uri": "https://localhost:8080/"
        },
        "id": "U3GdbCr9sYzF",
        "outputId": "da0841bf-a468-423a-ee3f-5010b879e063"
      },
      "execution_count": 20,
      "outputs": [
        {
          "output_type": "execute_result",
          "data": {
            "text/plain": [
              "0                  4011\n",
              "1    4011, 028400642255\n",
              "2                      \n",
              "3                  4011\n",
              "4            4011, 1234\n",
              "Name: barcodes, dtype: object"
            ]
          },
          "metadata": {},
          "execution_count": 20
        }
      ]
    },
    {
      "cell_type": "markdown",
      "source": [
        "### Data issues\n",
        " - Multiple values in barcodes, finalPrice, itemPrice, partnerItemId, quantityPurchased columns. First form normalization needed.\n",
        " - Split the barcodes to use as foreign key.\n",
        " - pointsEarned, totalSpent, finalPrice, itemPrice, quantityPurchased data types are object. Data type need to be changed to numeric."
      ],
      "metadata": {
        "id": "C34fXHbuiVvz"
      }
    },
    {
      "cell_type": "code",
      "source": [
        "import numpy as np\n",
        "receipts['barcodes'] = receipts['barcodes'].replace(r'^\\s*$', np.nan, regex=True)"
      ],
      "metadata": {
        "id": "jh--MBl1Dm1i"
      },
      "execution_count": 21,
      "outputs": []
    },
    {
      "cell_type": "code",
      "source": [
        "receipts['barcodes'] = receipts['barcodes'].str.split(',')\n",
        "receipts = receipts.explode('barcodes')\n",
        "receipts.rename(columns={'barcodes': 'barcode'}, inplace=True)\n",
        "receipts['barcode'] = receipts['barcode'].str.strip()"
      ],
      "metadata": {
        "id": "9_eGKNiA3eLM"
      },
      "execution_count": 22,
      "outputs": []
    },
    {
      "cell_type": "code",
      "source": [
        "to_convert = ['pointsEarned', 'totalSpent', 'finalPrice', 'itemPrice', 'quantityPurchased']\n",
        "\n",
        "# Convert each column to numeric, coercing errors to NaN\n",
        "for column in to_convert:\n",
        "    receipts[column] = pd.to_numeric(receipts[column], errors='coerce')"
      ],
      "metadata": {
        "id": "JIzv-rmokPUl"
      },
      "execution_count": 23,
      "outputs": []
    },
    {
      "cell_type": "code",
      "source": [
        "receipts.shape"
      ],
      "metadata": {
        "colab": {
          "base_uri": "https://localhost:8080/"
        },
        "id": "AB2_KPQ7DGqQ",
        "outputId": "3e660e06-5fdf-43ac-a0f9-d7ca97a6b952"
      },
      "execution_count": 24,
      "outputs": [
        {
          "output_type": "execute_result",
          "data": {
            "text/plain": [
              "(3616, 26)"
            ]
          },
          "metadata": {},
          "execution_count": 24
        }
      ]
    },
    {
      "cell_type": "code",
      "source": [
        "receipts.info()"
      ],
      "metadata": {
        "colab": {
          "base_uri": "https://localhost:8080/"
        },
        "id": "8VmaJbwAkc4I",
        "outputId": "ab2e29bb-7f07-4a9e-ae39-b55763714887"
      },
      "execution_count": 25,
      "outputs": [
        {
          "output_type": "stream",
          "name": "stdout",
          "text": [
            "<class 'pandas.core.frame.DataFrame'>\n",
            "Int64Index: 3616 entries, 0 to 1118\n",
            "Data columns (total 26 columns):\n",
            " #   Column                   Non-Null Count  Dtype  \n",
            "---  ------                   --------------  -----  \n",
            " 0   bonusPointsEarned        2709 non-null   float64\n",
            " 1   bonusPointsEarnedReason  2709 non-null   object \n",
            " 2   pointsEarned             2972 non-null   float64\n",
            " 3   purchasedItemCount       3132 non-null   float64\n",
            " 4   rewardsReceiptStatus     3616 non-null   object \n",
            " 5   totalSpent               3181 non-null   float64\n",
            " 6   userId                   3616 non-null   object \n",
            " 7   barcode                  3090 non-null   object \n",
            " 8   description              3616 non-null   object \n",
            " 9   finalPrice               433 non-null    float64\n",
            " 10  itemPrice                433 non-null    float64\n",
            " 11  needsFetchReview         3616 non-null   object \n",
            " 12  partnerItemId            3616 non-null   object \n",
            " 13  preventTargetGapPoints   3616 non-null   object \n",
            " 14  quantityPurchased        433 non-null    float64\n",
            " 15  userFlaggedBarcode       3616 non-null   object \n",
            " 16  userFlaggedNewItem       3616 non-null   object \n",
            " 17  userFlaggedPrice         3616 non-null   object \n",
            " 18  userFlaggedQuantity      3616 non-null   object \n",
            " 19  receipt_id               3616 non-null   object \n",
            " 20  create_ym                3616 non-null   object \n",
            " 21  scan_ym                  3616 non-null   object \n",
            " 22  finish_ym                2819 non-null   object \n",
            " 23  modify_ym                3616 non-null   object \n",
            " 24  point_ym                 2805 non-null   object \n",
            " 25  purchase_ym              3168 non-null   object \n",
            "dtypes: float64(7), object(19)\n",
            "memory usage: 762.8+ KB\n"
          ]
        }
      ]
    },
    {
      "cell_type": "code",
      "source": [
        "receipts.isna().sum()"
      ],
      "metadata": {
        "colab": {
          "base_uri": "https://localhost:8080/"
        },
        "id": "uix9j6Wlrvx6",
        "outputId": "7889aed0-3f70-400d-d06c-e7f89b932d09"
      },
      "execution_count": 26,
      "outputs": [
        {
          "output_type": "execute_result",
          "data": {
            "text/plain": [
              "bonusPointsEarned           907\n",
              "bonusPointsEarnedReason     907\n",
              "pointsEarned                644\n",
              "purchasedItemCount          484\n",
              "rewardsReceiptStatus          0\n",
              "totalSpent                  435\n",
              "userId                        0\n",
              "barcode                     526\n",
              "description                   0\n",
              "finalPrice                 3183\n",
              "itemPrice                  3183\n",
              "needsFetchReview              0\n",
              "partnerItemId                 0\n",
              "preventTargetGapPoints        0\n",
              "quantityPurchased          3183\n",
              "userFlaggedBarcode            0\n",
              "userFlaggedNewItem            0\n",
              "userFlaggedPrice              0\n",
              "userFlaggedQuantity           0\n",
              "receipt_id                    0\n",
              "create_ym                     0\n",
              "scan_ym                       0\n",
              "finish_ym                   797\n",
              "modify_ym                     0\n",
              "point_ym                    811\n",
              "purchase_ym                 448\n",
              "dtype: int64"
            ]
          },
          "metadata": {},
          "execution_count": 26
        }
      ]
    },
    {
      "cell_type": "markdown",
      "source": [
        "### Sqlite3 table conversion"
      ],
      "metadata": {
        "id": "Bw_Ji6dOrJry"
      }
    },
    {
      "cell_type": "code",
      "source": [
        "for column in receipts.select_dtypes(include=['float64']).columns:\n",
        "    receipts[column] = receipts[column].fillna(0).astype(int)"
      ],
      "metadata": {
        "id": "6cv6n_ynyX4B"
      },
      "execution_count": 27,
      "outputs": []
    },
    {
      "cell_type": "code",
      "source": [
        "receipts.to_sql('receipts', conn, if_exists='replace', index=False)"
      ],
      "metadata": {
        "colab": {
          "base_uri": "https://localhost:8080/"
        },
        "id": "E1_M3TfAQow8",
        "outputId": "9c848a8c-95c3-450d-833d-faff51e51979"
      },
      "execution_count": 28,
      "outputs": [
        {
          "output_type": "execute_result",
          "data": {
            "text/plain": [
              "3616"
            ]
          },
          "metadata": {},
          "execution_count": 28
        }
      ]
    },
    {
      "cell_type": "code",
      "source": [
        "file_name = 'receipts.xlsx'\n",
        "receipts.to_excel(file_name, index=False)"
      ],
      "metadata": {
        "id": "ywMgTEe9jf5R"
      },
      "execution_count": 29,
      "outputs": []
    },
    {
      "cell_type": "markdown",
      "source": [
        "### **Users Table**\n",
        " - Read json file.\n",
        " - Retrieve id values within the oid dictionary.\n",
        " - Retrieve and convert dates from date dictionary."
      ],
      "metadata": {
        "id": "wbyl397mtlv1"
      }
    },
    {
      "cell_type": "code",
      "source": [
        "with open('/content/users.json', 'r') as file:\n",
        "    json_text = file.read()\n",
        "\n",
        "json_objects = json_text.strip().split('\\n')\n",
        "data2 = [json.loads(obj) for obj in json_objects]\n",
        "users = pd.DataFrame(data2)\n",
        "\n",
        "users.head()"
      ],
      "metadata": {
        "id": "ZYs7GXPfTimz",
        "colab": {
          "base_uri": "https://localhost:8080/",
          "height": 0
        },
        "outputId": "0517d06a-e411-44e6-b115-3ebadaa4bab3"
      },
      "execution_count": 30,
      "outputs": [
        {
          "output_type": "execute_result",
          "data": {
            "text/plain": [
              "                                    _id  active               createdDate  \\\n",
              "0  {'$oid': '5ff1e194b6a9d73a3a9f1052'}    True  {'$date': 1609687444800}   \n",
              "1  {'$oid': '5ff1e194b6a9d73a3a9f1052'}    True  {'$date': 1609687444800}   \n",
              "2  {'$oid': '5ff1e194b6a9d73a3a9f1052'}    True  {'$date': 1609687444800}   \n",
              "3  {'$oid': '5ff1e1eacfcf6c399c274ae6'}    True  {'$date': 1609687530554}   \n",
              "4  {'$oid': '5ff1e194b6a9d73a3a9f1052'}    True  {'$date': 1609687444800}   \n",
              "\n",
              "                  lastLogin      role signUpSource state  \n",
              "0  {'$date': 1609687537858}  consumer        Email    WI  \n",
              "1  {'$date': 1609687537858}  consumer        Email    WI  \n",
              "2  {'$date': 1609687537858}  consumer        Email    WI  \n",
              "3  {'$date': 1609687530597}  consumer        Email    WI  \n",
              "4  {'$date': 1609687537858}  consumer        Email    WI  "
            ],
            "text/html": [
              "\n",
              "  <div id=\"df-616b7336-5474-4656-bbbb-038f7cc9f27d\" class=\"colab-df-container\">\n",
              "    <div>\n",
              "<style scoped>\n",
              "    .dataframe tbody tr th:only-of-type {\n",
              "        vertical-align: middle;\n",
              "    }\n",
              "\n",
              "    .dataframe tbody tr th {\n",
              "        vertical-align: top;\n",
              "    }\n",
              "\n",
              "    .dataframe thead th {\n",
              "        text-align: right;\n",
              "    }\n",
              "</style>\n",
              "<table border=\"1\" class=\"dataframe\">\n",
              "  <thead>\n",
              "    <tr style=\"text-align: right;\">\n",
              "      <th></th>\n",
              "      <th>_id</th>\n",
              "      <th>active</th>\n",
              "      <th>createdDate</th>\n",
              "      <th>lastLogin</th>\n",
              "      <th>role</th>\n",
              "      <th>signUpSource</th>\n",
              "      <th>state</th>\n",
              "    </tr>\n",
              "  </thead>\n",
              "  <tbody>\n",
              "    <tr>\n",
              "      <th>0</th>\n",
              "      <td>{'$oid': '5ff1e194b6a9d73a3a9f1052'}</td>\n",
              "      <td>True</td>\n",
              "      <td>{'$date': 1609687444800}</td>\n",
              "      <td>{'$date': 1609687537858}</td>\n",
              "      <td>consumer</td>\n",
              "      <td>Email</td>\n",
              "      <td>WI</td>\n",
              "    </tr>\n",
              "    <tr>\n",
              "      <th>1</th>\n",
              "      <td>{'$oid': '5ff1e194b6a9d73a3a9f1052'}</td>\n",
              "      <td>True</td>\n",
              "      <td>{'$date': 1609687444800}</td>\n",
              "      <td>{'$date': 1609687537858}</td>\n",
              "      <td>consumer</td>\n",
              "      <td>Email</td>\n",
              "      <td>WI</td>\n",
              "    </tr>\n",
              "    <tr>\n",
              "      <th>2</th>\n",
              "      <td>{'$oid': '5ff1e194b6a9d73a3a9f1052'}</td>\n",
              "      <td>True</td>\n",
              "      <td>{'$date': 1609687444800}</td>\n",
              "      <td>{'$date': 1609687537858}</td>\n",
              "      <td>consumer</td>\n",
              "      <td>Email</td>\n",
              "      <td>WI</td>\n",
              "    </tr>\n",
              "    <tr>\n",
              "      <th>3</th>\n",
              "      <td>{'$oid': '5ff1e1eacfcf6c399c274ae6'}</td>\n",
              "      <td>True</td>\n",
              "      <td>{'$date': 1609687530554}</td>\n",
              "      <td>{'$date': 1609687530597}</td>\n",
              "      <td>consumer</td>\n",
              "      <td>Email</td>\n",
              "      <td>WI</td>\n",
              "    </tr>\n",
              "    <tr>\n",
              "      <th>4</th>\n",
              "      <td>{'$oid': '5ff1e194b6a9d73a3a9f1052'}</td>\n",
              "      <td>True</td>\n",
              "      <td>{'$date': 1609687444800}</td>\n",
              "      <td>{'$date': 1609687537858}</td>\n",
              "      <td>consumer</td>\n",
              "      <td>Email</td>\n",
              "      <td>WI</td>\n",
              "    </tr>\n",
              "  </tbody>\n",
              "</table>\n",
              "</div>\n",
              "    <div class=\"colab-df-buttons\">\n",
              "\n",
              "  <div class=\"colab-df-container\">\n",
              "    <button class=\"colab-df-convert\" onclick=\"convertToInteractive('df-616b7336-5474-4656-bbbb-038f7cc9f27d')\"\n",
              "            title=\"Convert this dataframe to an interactive table.\"\n",
              "            style=\"display:none;\">\n",
              "\n",
              "  <svg xmlns=\"http://www.w3.org/2000/svg\" height=\"24px\" viewBox=\"0 -960 960 960\">\n",
              "    <path d=\"M120-120v-720h720v720H120Zm60-500h600v-160H180v160Zm220 220h160v-160H400v160Zm0 220h160v-160H400v160ZM180-400h160v-160H180v160Zm440 0h160v-160H620v160ZM180-180h160v-160H180v160Zm440 0h160v-160H620v160Z\"/>\n",
              "  </svg>\n",
              "    </button>\n",
              "\n",
              "  <style>\n",
              "    .colab-df-container {\n",
              "      display:flex;\n",
              "      gap: 12px;\n",
              "    }\n",
              "\n",
              "    .colab-df-convert {\n",
              "      background-color: #E8F0FE;\n",
              "      border: none;\n",
              "      border-radius: 50%;\n",
              "      cursor: pointer;\n",
              "      display: none;\n",
              "      fill: #1967D2;\n",
              "      height: 32px;\n",
              "      padding: 0 0 0 0;\n",
              "      width: 32px;\n",
              "    }\n",
              "\n",
              "    .colab-df-convert:hover {\n",
              "      background-color: #E2EBFA;\n",
              "      box-shadow: 0px 1px 2px rgba(60, 64, 67, 0.3), 0px 1px 3px 1px rgba(60, 64, 67, 0.15);\n",
              "      fill: #174EA6;\n",
              "    }\n",
              "\n",
              "    .colab-df-buttons div {\n",
              "      margin-bottom: 4px;\n",
              "    }\n",
              "\n",
              "    [theme=dark] .colab-df-convert {\n",
              "      background-color: #3B4455;\n",
              "      fill: #D2E3FC;\n",
              "    }\n",
              "\n",
              "    [theme=dark] .colab-df-convert:hover {\n",
              "      background-color: #434B5C;\n",
              "      box-shadow: 0px 1px 3px 1px rgba(0, 0, 0, 0.15);\n",
              "      filter: drop-shadow(0px 1px 2px rgba(0, 0, 0, 0.3));\n",
              "      fill: #FFFFFF;\n",
              "    }\n",
              "  </style>\n",
              "\n",
              "    <script>\n",
              "      const buttonEl =\n",
              "        document.querySelector('#df-616b7336-5474-4656-bbbb-038f7cc9f27d button.colab-df-convert');\n",
              "      buttonEl.style.display =\n",
              "        google.colab.kernel.accessAllowed ? 'block' : 'none';\n",
              "\n",
              "      async function convertToInteractive(key) {\n",
              "        const element = document.querySelector('#df-616b7336-5474-4656-bbbb-038f7cc9f27d');\n",
              "        const dataTable =\n",
              "          await google.colab.kernel.invokeFunction('convertToInteractive',\n",
              "                                                    [key], {});\n",
              "        if (!dataTable) return;\n",
              "\n",
              "        const docLinkHtml = 'Like what you see? Visit the ' +\n",
              "          '<a target=\"_blank\" href=https://colab.research.google.com/notebooks/data_table.ipynb>data table notebook</a>'\n",
              "          + ' to learn more about interactive tables.';\n",
              "        element.innerHTML = '';\n",
              "        dataTable['output_type'] = 'display_data';\n",
              "        await google.colab.output.renderOutput(dataTable, element);\n",
              "        const docLink = document.createElement('div');\n",
              "        docLink.innerHTML = docLinkHtml;\n",
              "        element.appendChild(docLink);\n",
              "      }\n",
              "    </script>\n",
              "  </div>\n",
              "\n",
              "\n",
              "<div id=\"df-debee805-6fc0-47cb-ad95-7c81eb49286f\">\n",
              "  <button class=\"colab-df-quickchart\" onclick=\"quickchart('df-debee805-6fc0-47cb-ad95-7c81eb49286f')\"\n",
              "            title=\"Suggest charts\"\n",
              "            style=\"display:none;\">\n",
              "\n",
              "<svg xmlns=\"http://www.w3.org/2000/svg\" height=\"24px\"viewBox=\"0 0 24 24\"\n",
              "     width=\"24px\">\n",
              "    <g>\n",
              "        <path d=\"M19 3H5c-1.1 0-2 .9-2 2v14c0 1.1.9 2 2 2h14c1.1 0 2-.9 2-2V5c0-1.1-.9-2-2-2zM9 17H7v-7h2v7zm4 0h-2V7h2v10zm4 0h-2v-4h2v4z\"/>\n",
              "    </g>\n",
              "</svg>\n",
              "  </button>\n",
              "\n",
              "<style>\n",
              "  .colab-df-quickchart {\n",
              "      --bg-color: #E8F0FE;\n",
              "      --fill-color: #1967D2;\n",
              "      --hover-bg-color: #E2EBFA;\n",
              "      --hover-fill-color: #174EA6;\n",
              "      --disabled-fill-color: #AAA;\n",
              "      --disabled-bg-color: #DDD;\n",
              "  }\n",
              "\n",
              "  [theme=dark] .colab-df-quickchart {\n",
              "      --bg-color: #3B4455;\n",
              "      --fill-color: #D2E3FC;\n",
              "      --hover-bg-color: #434B5C;\n",
              "      --hover-fill-color: #FFFFFF;\n",
              "      --disabled-bg-color: #3B4455;\n",
              "      --disabled-fill-color: #666;\n",
              "  }\n",
              "\n",
              "  .colab-df-quickchart {\n",
              "    background-color: var(--bg-color);\n",
              "    border: none;\n",
              "    border-radius: 50%;\n",
              "    cursor: pointer;\n",
              "    display: none;\n",
              "    fill: var(--fill-color);\n",
              "    height: 32px;\n",
              "    padding: 0;\n",
              "    width: 32px;\n",
              "  }\n",
              "\n",
              "  .colab-df-quickchart:hover {\n",
              "    background-color: var(--hover-bg-color);\n",
              "    box-shadow: 0 1px 2px rgba(60, 64, 67, 0.3), 0 1px 3px 1px rgba(60, 64, 67, 0.15);\n",
              "    fill: var(--button-hover-fill-color);\n",
              "  }\n",
              "\n",
              "  .colab-df-quickchart-complete:disabled,\n",
              "  .colab-df-quickchart-complete:disabled:hover {\n",
              "    background-color: var(--disabled-bg-color);\n",
              "    fill: var(--disabled-fill-color);\n",
              "    box-shadow: none;\n",
              "  }\n",
              "\n",
              "  .colab-df-spinner {\n",
              "    border: 2px solid var(--fill-color);\n",
              "    border-color: transparent;\n",
              "    border-bottom-color: var(--fill-color);\n",
              "    animation:\n",
              "      spin 1s steps(1) infinite;\n",
              "  }\n",
              "\n",
              "  @keyframes spin {\n",
              "    0% {\n",
              "      border-color: transparent;\n",
              "      border-bottom-color: var(--fill-color);\n",
              "      border-left-color: var(--fill-color);\n",
              "    }\n",
              "    20% {\n",
              "      border-color: transparent;\n",
              "      border-left-color: var(--fill-color);\n",
              "      border-top-color: var(--fill-color);\n",
              "    }\n",
              "    30% {\n",
              "      border-color: transparent;\n",
              "      border-left-color: var(--fill-color);\n",
              "      border-top-color: var(--fill-color);\n",
              "      border-right-color: var(--fill-color);\n",
              "    }\n",
              "    40% {\n",
              "      border-color: transparent;\n",
              "      border-right-color: var(--fill-color);\n",
              "      border-top-color: var(--fill-color);\n",
              "    }\n",
              "    60% {\n",
              "      border-color: transparent;\n",
              "      border-right-color: var(--fill-color);\n",
              "    }\n",
              "    80% {\n",
              "      border-color: transparent;\n",
              "      border-right-color: var(--fill-color);\n",
              "      border-bottom-color: var(--fill-color);\n",
              "    }\n",
              "    90% {\n",
              "      border-color: transparent;\n",
              "      border-bottom-color: var(--fill-color);\n",
              "    }\n",
              "  }\n",
              "</style>\n",
              "\n",
              "  <script>\n",
              "    async function quickchart(key) {\n",
              "      const quickchartButtonEl =\n",
              "        document.querySelector('#' + key + ' button');\n",
              "      quickchartButtonEl.disabled = true;  // To prevent multiple clicks.\n",
              "      quickchartButtonEl.classList.add('colab-df-spinner');\n",
              "      try {\n",
              "        const charts = await google.colab.kernel.invokeFunction(\n",
              "            'suggestCharts', [key], {});\n",
              "      } catch (error) {\n",
              "        console.error('Error during call to suggestCharts:', error);\n",
              "      }\n",
              "      quickchartButtonEl.classList.remove('colab-df-spinner');\n",
              "      quickchartButtonEl.classList.add('colab-df-quickchart-complete');\n",
              "    }\n",
              "    (() => {\n",
              "      let quickchartButtonEl =\n",
              "        document.querySelector('#df-debee805-6fc0-47cb-ad95-7c81eb49286f button');\n",
              "      quickchartButtonEl.style.display =\n",
              "        google.colab.kernel.accessAllowed ? 'block' : 'none';\n",
              "    })();\n",
              "  </script>\n",
              "</div>\n",
              "\n",
              "    </div>\n",
              "  </div>\n"
            ],
            "application/vnd.google.colaboratory.intrinsic+json": {
              "type": "dataframe",
              "variable_name": "users",
              "summary": "{\n  \"name\": \"users\",\n  \"rows\": 495,\n  \"fields\": [\n    {\n      \"column\": \"_id\",\n      \"properties\": {\n        \"dtype\": \"object\",\n        \"semantic_type\": \"\",\n        \"description\": \"\"\n      }\n    },\n    {\n      \"column\": \"active\",\n      \"properties\": {\n        \"dtype\": \"boolean\",\n        \"num_unique_values\": 2,\n        \"samples\": [\n          false,\n          true\n        ],\n        \"semantic_type\": \"\",\n        \"description\": \"\"\n      }\n    },\n    {\n      \"column\": \"createdDate\",\n      \"properties\": {\n        \"dtype\": \"object\",\n        \"semantic_type\": \"\",\n        \"description\": \"\"\n      }\n    },\n    {\n      \"column\": \"lastLogin\",\n      \"properties\": {\n        \"dtype\": \"object\",\n        \"semantic_type\": \"\",\n        \"description\": \"\"\n      }\n    },\n    {\n      \"column\": \"role\",\n      \"properties\": {\n        \"dtype\": \"category\",\n        \"num_unique_values\": 2,\n        \"samples\": [\n          \"fetch-staff\",\n          \"consumer\"\n        ],\n        \"semantic_type\": \"\",\n        \"description\": \"\"\n      }\n    },\n    {\n      \"column\": \"signUpSource\",\n      \"properties\": {\n        \"dtype\": \"category\",\n        \"num_unique_values\": 2,\n        \"samples\": [\n          \"Google\",\n          \"Email\"\n        ],\n        \"semantic_type\": \"\",\n        \"description\": \"\"\n      }\n    },\n    {\n      \"column\": \"state\",\n      \"properties\": {\n        \"dtype\": \"category\",\n        \"num_unique_values\": 8,\n        \"samples\": [\n          \"KY\",\n          \"OH\"\n        ],\n        \"semantic_type\": \"\",\n        \"description\": \"\"\n      }\n    }\n  ]\n}"
            }
          },
          "metadata": {},
          "execution_count": 30
        }
      ]
    },
    {
      "cell_type": "code",
      "source": [
        "users['create_d'] = users['createdDate'].apply(lambda x: extract2(x))\n",
        "users['login_d'] = users['lastLogin'].apply(lambda x: extract2(x))\n",
        "users['user_id'] = users['_id'].apply(lambda x: x.get('$oid') if isinstance(x, dict) else None)"
      ],
      "metadata": {
        "id": "nwJ7xdmGOCm1"
      },
      "execution_count": 31,
      "outputs": []
    },
    {
      "cell_type": "code",
      "source": [
        "users['create_ym'] = users['create_d'].apply(lambda x: datetime.fromtimestamp(x/1000).strftime('%Y-%m') if pd.notnull(x) else None)\n",
        "users['scan_ym'] = users['login_d'].apply(lambda x: datetime.fromtimestamp(x/1000).strftime('%Y-%m') if pd.notnull(x) else None)"
      ],
      "metadata": {
        "id": "phBJl0uDOZQA"
      },
      "execution_count": 32,
      "outputs": []
    },
    {
      "cell_type": "markdown",
      "source": [
        "### Missing values\n",
        " - Missing values in lastLogin, signUpSource, state and scan_ym columns."
      ],
      "metadata": {
        "id": "shq7lixUukKO"
      }
    },
    {
      "cell_type": "code",
      "source": [
        "users.shape"
      ],
      "metadata": {
        "colab": {
          "base_uri": "https://localhost:8080/"
        },
        "id": "omRwUPVautU2",
        "outputId": "9e76faba-aa05-4b76-a4d7-c12fe5929288"
      },
      "execution_count": 33,
      "outputs": [
        {
          "output_type": "execute_result",
          "data": {
            "text/plain": [
              "(495, 12)"
            ]
          },
          "metadata": {},
          "execution_count": 33
        }
      ]
    },
    {
      "cell_type": "code",
      "source": [
        "users.isna().sum()"
      ],
      "metadata": {
        "colab": {
          "base_uri": "https://localhost:8080/"
        },
        "id": "A35gxH5uumw1",
        "outputId": "ffa19394-7f76-420b-e511-28a865865997"
      },
      "execution_count": 34,
      "outputs": [
        {
          "output_type": "execute_result",
          "data": {
            "text/plain": [
              "_id              0\n",
              "active           0\n",
              "createdDate      0\n",
              "lastLogin       62\n",
              "role             0\n",
              "signUpSource    48\n",
              "state           56\n",
              "create_d         0\n",
              "login_d         62\n",
              "user_id          0\n",
              "create_ym        0\n",
              "scan_ym         62\n",
              "dtype: int64"
            ]
          },
          "metadata": {},
          "execution_count": 34
        }
      ]
    },
    {
      "cell_type": "markdown",
      "source": [
        "### Consistent Values\n",
        " - Values are consistent across categorical or text columns"
      ],
      "metadata": {
        "id": "OaO5vVyHvTlT"
      }
    },
    {
      "cell_type": "code",
      "source": [
        "users['signUpSource'].value_counts()"
      ],
      "metadata": {
        "colab": {
          "base_uri": "https://localhost:8080/"
        },
        "id": "ZnKZdLbvvcDM",
        "outputId": "2942562e-36c0-4f44-b196-2fd571b36e70"
      },
      "execution_count": 35,
      "outputs": [
        {
          "output_type": "execute_result",
          "data": {
            "text/plain": [
              "Email     443\n",
              "Google      4\n",
              "Name: signUpSource, dtype: int64"
            ]
          },
          "metadata": {},
          "execution_count": 35
        }
      ]
    },
    {
      "cell_type": "code",
      "source": [
        "users['role'].value_counts()"
      ],
      "metadata": {
        "colab": {
          "base_uri": "https://localhost:8080/"
        },
        "id": "1akBs0c-vp2k",
        "outputId": "d9d74814-1fdf-46ab-a4e8-012c8ea45d6a"
      },
      "execution_count": 36,
      "outputs": [
        {
          "output_type": "execute_result",
          "data": {
            "text/plain": [
              "consumer       413\n",
              "fetch-staff     82\n",
              "Name: role, dtype: int64"
            ]
          },
          "metadata": {},
          "execution_count": 36
        }
      ]
    },
    {
      "cell_type": "code",
      "source": [
        "users['state'].value_counts()"
      ],
      "metadata": {
        "colab": {
          "base_uri": "https://localhost:8080/"
        },
        "id": "FwbkopAmvsJx",
        "outputId": "9eca70b4-fad0-4af3-8b75-3c9916aeeb7d"
      },
      "execution_count": 37,
      "outputs": [
        {
          "output_type": "execute_result",
          "data": {
            "text/plain": [
              "WI    396\n",
              "NH     20\n",
              "AL     12\n",
              "OH      5\n",
              "IL      3\n",
              "KY      1\n",
              "CO      1\n",
              "SC      1\n",
              "Name: state, dtype: int64"
            ]
          },
          "metadata": {},
          "execution_count": 37
        }
      ]
    },
    {
      "cell_type": "code",
      "source": [
        "users['active'].value_counts()"
      ],
      "metadata": {
        "colab": {
          "base_uri": "https://localhost:8080/"
        },
        "id": "ADNH3yBavxcH",
        "outputId": "d61cbce4-c6b1-49f3-cf5c-7266295ff71d"
      },
      "execution_count": 38,
      "outputs": [
        {
          "output_type": "execute_result",
          "data": {
            "text/plain": [
              "True     494\n",
              "False      1\n",
              "Name: active, dtype: int64"
            ]
          },
          "metadata": {},
          "execution_count": 38
        }
      ]
    },
    {
      "cell_type": "markdown",
      "source": [
        "### Remove irrelevant columns\n",
        " -  Remove json formatted columns and columns that were used for retrieving and conversion."
      ],
      "metadata": {
        "id": "bg9szD6qwIvN"
      }
    },
    {
      "cell_type": "code",
      "source": [
        "colsToDrop = ['_id','createdDate','lastLogin']\n",
        "users.drop(colsToDrop, axis=1, inplace=True)"
      ],
      "metadata": {
        "id": "nYD82dDzwM1p"
      },
      "execution_count": 39,
      "outputs": []
    },
    {
      "cell_type": "markdown",
      "source": [
        "### Check duplicates\n",
        " - Within the users table, 283 users are duplicated in the 495 data points in the table.\n",
        " - Drop the 283 duplicated users."
      ],
      "metadata": {
        "id": "xupe6LZ4v8La"
      }
    },
    {
      "cell_type": "code",
      "source": [
        "users.duplicated().any()"
      ],
      "metadata": {
        "colab": {
          "base_uri": "https://localhost:8080/"
        },
        "id": "fNaOCt-_w3ns",
        "outputId": "7df7dbe2-ff72-4713-8eb0-ea00f9e54858"
      },
      "execution_count": 40,
      "outputs": [
        {
          "output_type": "execute_result",
          "data": {
            "text/plain": [
              "True"
            ]
          },
          "metadata": {},
          "execution_count": 40
        }
      ]
    },
    {
      "cell_type": "code",
      "source": [
        "users['user_id'].duplicated().sum()"
      ],
      "metadata": {
        "colab": {
          "base_uri": "https://localhost:8080/"
        },
        "id": "VU8WmeNDyQie",
        "outputId": "5e400fbe-85b3-46b8-93e8-bb94c39dfc38"
      },
      "execution_count": 41,
      "outputs": [
        {
          "output_type": "execute_result",
          "data": {
            "text/plain": [
              "283"
            ]
          },
          "metadata": {},
          "execution_count": 41
        }
      ]
    },
    {
      "cell_type": "code",
      "source": [
        "users = users.drop_duplicates()"
      ],
      "metadata": {
        "id": "MbhYmBxnyvsK"
      },
      "execution_count": 42,
      "outputs": []
    },
    {
      "cell_type": "markdown",
      "source": [
        "### Sqlite3 table conversion"
      ],
      "metadata": {
        "id": "foARL6ebt7cv"
      }
    },
    {
      "cell_type": "code",
      "source": [
        "for column in users.select_dtypes(include=['float64']).columns:\n",
        "    users[column] = users[column].fillna(0).astype(int)"
      ],
      "metadata": {
        "id": "Lc4jco2KuXR1"
      },
      "execution_count": 43,
      "outputs": []
    },
    {
      "cell_type": "code",
      "source": [
        "users.to_sql('users', conn, if_exists='replace', index=False)"
      ],
      "metadata": {
        "colab": {
          "base_uri": "https://localhost:8080/"
        },
        "id": "cCs1qiUFuXb_",
        "outputId": "d9cb839d-6d63-48cd-c3f4-561e814ecfad"
      },
      "execution_count": 44,
      "outputs": [
        {
          "output_type": "execute_result",
          "data": {
            "text/plain": [
              "212"
            ]
          },
          "metadata": {},
          "execution_count": 44
        }
      ]
    },
    {
      "cell_type": "code",
      "source": [
        "file_name = 'users.xlsx'\n",
        "users.to_excel(file_name, index=False)"
      ],
      "metadata": {
        "id": "ddm326GtRnVF"
      },
      "execution_count": 45,
      "outputs": []
    },
    {
      "cell_type": "markdown",
      "source": [
        "### **Business questions - TOP 5 brands**\n",
        "\n",
        "- What are the top 5 brands by receipts scanned for most recent month?\n",
        "  - The most recent month in the receipts table is March, 2021.\n",
        "  - However, due to missing barcode values in receipt table or non listed barcode values in the brand table, most of them have null values. Receipts scanned in Jan, 2021 partially contain brand name values.\n",
        "  \n",
        "- How does the ranking of the top 5 brands by receipts scanned for the recent month compare to the ranking for the previous month?\n",
        "  - Top 5 brands for Jan 2021 are as below (containing name values)\n",
        "    1. Tostitos\n",
        "    2. Swanson\n",
        "    3. Cracker Barrel Cheese\n",
        "    4. Prego\n",
        "    5. Diet Chris Cola\n"
      ],
      "metadata": {
        "id": "SjKzVmDrks09"
      }
    },
    {
      "cell_type": "code",
      "source": [
        "cur.execute(\"\"\"\n",
        "SELECT scan_ym,\n",
        "       COUNT(receipt_id)\n",
        "FROM receipts\n",
        "GROUP BY scan_ym\n",
        "ORDER BY scan_ym DESC\n",
        "\"\"\")\n",
        "\n",
        "rows = cur.fetchall()\n",
        "for row in rows:\n",
        "    print(row)"
      ],
      "metadata": {
        "colab": {
          "base_uri": "https://localhost:8080/"
        },
        "id": "RDfMoCSV_pdk",
        "outputId": "16257e04-9225-4721-9131-1f8b202dba2d"
      },
      "execution_count": 46,
      "outputs": [
        {
          "output_type": "stream",
          "name": "stdout",
          "text": [
            "('2021-03', 43)\n",
            "('2021-02', 500)\n",
            "('2021-01', 3043)\n",
            "('2020-11', 24)\n",
            "('2020-10', 6)\n"
          ]
        }
      ]
    },
    {
      "cell_type": "code",
      "source": [
        "cur.execute(\"\"\"\n",
        "SELECT\n",
        "       A.scan_ym,\n",
        "       B.name,\n",
        "       COUNT(A.receipt_id) AS scanned,\n",
        "       ROW_NUMBER() OVER (PARTITION BY scan_ym ORDER BY COUNT(DISTINCT A.receipt_id) DESC) AS RANK\n",
        "FROM RECEIPTS A LEFT OUTER JOIN BRANDS B\n",
        "ON A.barcode=B.barcode\n",
        "GROUP BY A.scan_ym, B.name\n",
        "ORDER BY scan_ym DESC\n",
        "\"\"\")\n",
        "\n",
        "rows = cur.fetchall()\n",
        "for row in rows:\n",
        "    print(row)"
      ],
      "metadata": {
        "colab": {
          "base_uri": "https://localhost:8080/"
        },
        "id": "V0XI9VqDAMam",
        "outputId": "642ae075-3ea3-4455-d178-71fab8af7d0d"
      },
      "execution_count": 47,
      "outputs": [
        {
          "output_type": "stream",
          "name": "stdout",
          "text": [
            "('2021-03', None, 43, 1)\n",
            "('2021-02', None, 500, 1)\n",
            "('2021-01', None, 2961, 1)\n",
            "('2021-01', 'Tostitos', 23, 2)\n",
            "('2021-01', 'Swanson', 11, 3)\n",
            "('2021-01', 'Cracker Barrel Cheese', 10, 4)\n",
            "('2021-01', 'Prego', 7, 5)\n",
            "('2021-01', 'Diet Chris Cola', 7, 6)\n",
            "('2021-01', 'Quaker', 3, 7)\n",
            "('2021-01', 'Kraft', 3, 8)\n",
            "('2021-01', 'Kettle Brand', 3, 9)\n",
            "('2021-01', 'Jell-O', 3, 10)\n",
            "('2021-01', 'V8', 4, 11)\n",
            "('2021-01', 'Rice A Roni', 3, 12)\n",
            "('2021-01', 'Pepperidge Farm', 5, 13)\n",
            "('2021-01', 'Cheetos', 3, 14)\n",
            "('2021-01', 'Sargento® Cheese', 1, 15)\n",
            "('2021-01', 'Pacific Foods', 1, 16)\n",
            "('2021-01', 'Mountain Dew', 1, 17)\n",
            "('2021-01', 'Grey Poupon', 1, 18)\n",
            "('2020-11', None, 24, 1)\n",
            "('2020-10', None, 6, 1)\n"
          ]
        }
      ]
    },
    {
      "cell_type": "markdown",
      "source": [
        "###**Business Questions - Spending and items purchased by rewardsReceiptStatus**\n",
        "- When considering average spend from receipts with 'rewardsReceiptStatus’ of ‘Accepted’ or ‘Rejected’, which is greater?\n",
        "  - First of all, there is no value named 'Accepted'.\n",
        "  - If comparing with 'Finished' status, average spending is 913 dollars which is approx. 34 times higher than 'Rejected' average spending of 27 dollars. (Assuming spending in 1 dollar unit.)\n",
        "- When considering total number of items purchased from receipts with 'rewardsReceiptStatus’ of ‘Accepted’ or ‘Rejected’, which is greater?\n",
        "  - If comparing with 'Finished' status, total number of items purchased is 491,828 which is approx. 1,927 times higher than 'Rejected' total number of items purchased of 255.\n"
      ],
      "metadata": {
        "id": "tZw7kVs71vhE"
      }
    },
    {
      "cell_type": "code",
      "source": [
        "cur.execute(\"\"\"\n",
        "\n",
        "    SELECT\n",
        "        rewardsReceiptStatus,\n",
        "        ROUND(AVG(CASE WHEN totalSpent IS NOT NULL THEN totalSpent END), 0) AS avg_totalSpent,\n",
        "        SUM(CASE WHEN purchasedItemCount IS NOT NULL THEN purchasedItemCount ELSE 0 END) AS total_purchasedItemCount\n",
        "    FROM\n",
        "        receipts\n",
        "    GROUP BY\n",
        "        rewardsReceiptStatus\n",
        "\"\"\")\n",
        "\n",
        "rows = cur.fetchall()\n",
        "for row in rows:\n",
        "    print(row)"
      ],
      "metadata": {
        "colab": {
          "base_uri": "https://localhost:8080/"
        },
        "id": "hp1mGSql8LGc",
        "outputId": "90e81afd-15ac-4fb0-e018-99ce8803e22e"
      },
      "execution_count": 48,
      "outputs": [
        {
          "output_type": "stream",
          "name": "stdout",
          "text": [
            "('FINISHED', 913.0, 491828)\n",
            "('FLAGGED', 2064.0, 70063)\n",
            "('PENDING', 27.0, 0)\n",
            "('REJECTED', 27.0, 255)\n",
            "('SUBMITTED', 0.0, 0)\n"
          ]
        }
      ]
    },
    {
      "cell_type": "code",
      "source": [
        "cur.execute(\"\"\"\n",
        "\n",
        "WITH StatusTotals AS (\n",
        "    SELECT\n",
        "        rewardsReceiptStatus,\n",
        "        ROUND(AVG(CASE WHEN totalSpent IS NOT NULL THEN totalSpent END), 0) AS avg_totalSpent,\n",
        "        SUM(CASE WHEN purchasedItemCount IS NOT NULL THEN purchasedItemCount ELSE 0 END) AS total_purchasedItemCount\n",
        "    FROM\n",
        "        receipts\n",
        "    GROUP BY\n",
        "        rewardsReceiptStatus\n",
        ")\n",
        "SELECT\n",
        "    st1.rewardsReceiptStatus AS status1,\n",
        "    st2.rewardsReceiptStatus AS status2,\n",
        "    ROUND((st1.avg_totalSpent - st2.avg_totalSpent) / st2.avg_totalSpent * 100,0) AS percent_change_avg_totalSpent,\n",
        "    ROUND((st1.total_purchasedItemCount - st2.total_purchasedItemCount) / st2.total_purchasedItemCount * 100,0) AS percent_change_total_purchasedItemCount\n",
        "FROM\n",
        "    StatusTotals st1\n",
        "JOIN\n",
        "    StatusTotals st2 ON st1.rewardsReceiptStatus < st2.rewardsReceiptStatus\n",
        "\n",
        "\"\"\")\n",
        "\n",
        "rows = cur.fetchall()\n",
        "for row in rows:\n",
        "    print(row)\n"
      ],
      "metadata": {
        "colab": {
          "base_uri": "https://localhost:8080/"
        },
        "id": "yPSyEcN44qr2",
        "outputId": "7642766c-df10-4a15-8373-d941a71213d2"
      },
      "execution_count": 49,
      "outputs": [
        {
          "output_type": "stream",
          "name": "stdout",
          "text": [
            "('FINISHED', 'FLAGGED', -56.0, 600.0)\n",
            "('FINISHED', 'PENDING', 3281.0, None)\n",
            "('FINISHED', 'REJECTED', 3281.0, 192700.0)\n",
            "('FINISHED', 'SUBMITTED', None, None)\n",
            "('FLAGGED', 'PENDING', 7544.0, None)\n",
            "('FLAGGED', 'REJECTED', 7544.0, 27300.0)\n",
            "('FLAGGED', 'SUBMITTED', None, None)\n",
            "('PENDING', 'REJECTED', 0.0, -100.0)\n",
            "('PENDING', 'SUBMITTED', None, None)\n",
            "('REJECTED', 'SUBMITTED', None, None)\n"
          ]
        }
      ]
    },
    {
      "cell_type": "markdown",
      "source": [
        "### **Business Questions - Most recent users spending and transactions**\n",
        "- Which brand has the most spend among users who were created within the past 6 months?\n",
        "    - Tostitos has the most spending of 15,785 dollars among users who were created within the past 6 months.\n",
        "- Which brand has the most transactions among users who were created within the past 6 months?\n",
        "    - Tostitos has the most transactions of 23 among users who were created within the past 6 months.\n",
        "\n",
        "- Please refer that the create_ym has missing month/year values of  Oct/2020 and Sep/2020 which needs to be included in the past 6 months window. As a result, it only add up 4 months cumulative values."
      ],
      "metadata": {
        "id": "tW5f-NfI3_rj"
      }
    },
    {
      "cell_type": "code",
      "source": [
        "cur.execute(\"\"\"\n",
        "\n",
        "SELECT create_ym, count(*)\n",
        "FROM users\n",
        "group by create_ym\n",
        "order by create_ym desc;\n",
        "\n",
        "\"\"\")\n",
        "\n",
        "# Fetch and print the results of the SELECT query\n",
        "rows = cur.fetchall()\n",
        "for row in rows:\n",
        "    print(row)"
      ],
      "metadata": {
        "colab": {
          "base_uri": "https://localhost:8080/"
        },
        "id": "kR29AQhqYNxY",
        "outputId": "4e3fa266-a8dc-46c9-d5a7-8cd93a2d75ad"
      },
      "execution_count": 60,
      "outputs": [
        {
          "output_type": "stream",
          "name": "stdout",
          "text": [
            "('2021-02', 30)\n",
            "('2021-01', 170)\n",
            "('2020-12', 1)\n",
            "('2020-11', 4)\n",
            "('2020-07', 1)\n",
            "('2020-01', 1)\n",
            "('2017-12', 1)\n",
            "('2017-09', 1)\n",
            "('2017-07', 1)\n",
            "('2015-04', 1)\n",
            "('2014-12', 1)\n"
          ]
        }
      ]
    },
    {
      "cell_type": "code",
      "source": [
        "cur.execute(\"\"\"\n",
        "WITH threshold AS (\n",
        "    SELECT strftime('%Y-%m', MAX(create_ym || '-01'), '-6 months') AS threshold\n",
        "    FROM users\n",
        ")\n",
        "SELECT A.name,\n",
        "       ROUND(SUM(B.totalSpent), 0) AS \"total_spend\",\n",
        "       COUNT(B.receipt_id) AS \"transaction\"\n",
        "FROM brands A\n",
        "INNER JOIN receipts B ON A.barcode = B.barcode\n",
        "INNER JOIN users C ON B.userId = C.user_id,\n",
        "threshold T\n",
        "WHERE A.name IS NOT NULL\n",
        "AND C.create_ym >= T.threshold\n",
        "GROUP BY A.name\n",
        "ORDER BY \"total_spend\" DESC;\n",
        "\"\"\")\n",
        "\n",
        "# Fetch and print the results of the SELECT query\n",
        "rows = cur.fetchall()\n",
        "for row in rows:\n",
        "    print(row)"
      ],
      "metadata": {
        "colab": {
          "base_uri": "https://localhost:8080/"
        },
        "id": "MdFwTw-xL1hY",
        "outputId": "24246ffb-a518-4a8b-f03b-0c146016b083"
      },
      "execution_count": 69,
      "outputs": [
        {
          "output_type": "stream",
          "name": "stdout",
          "text": [
            "('Tostitos', 15785.0, 23)\n",
            "('Pepperidge Farm', 14163.0, 3)\n",
            "('V8', 9442.0, 2)\n",
            "('Prego', 9442.0, 2)\n",
            "('Diet Chris Cola', 9442.0, 2)\n",
            "('Swanson', 7180.0, 11)\n",
            "('Cracker Barrel Cheese', 4884.0, 2)\n",
            "('Jell-O', 4753.0, 2)\n",
            "('Cheetos', 4721.0, 1)\n",
            "('Kettle Brand', 2399.0, 3)\n",
            "('Grey Poupon', 743.0, 1)\n",
            "('Quaker', 32.0, 1)\n"
          ]
        }
      ]
    }
  ]
}